{
 "cells": [
  {
   "cell_type": "code",
   "execution_count": 1,
   "id": "e58706f7-7b14-46b6-96d2-3bab0b71964f",
   "metadata": {},
   "outputs": [],
   "source": [
    "a = 10000"
   ]
  },
  {
   "cell_type": "code",
   "execution_count": 2,
   "id": "0596febb-e60e-40e7-bfc2-3d0561f68cff",
   "metadata": {},
   "outputs": [
    {
     "data": {
      "text/plain": [
       "10000"
      ]
     },
     "execution_count": 2,
     "metadata": {},
     "output_type": "execute_result"
    }
   ],
   "source": [
    "a"
   ]
  },
  {
   "cell_type": "code",
   "execution_count": 3,
   "id": "8c0eed58-7b3e-435b-b9f7-42592a6cb0aa",
   "metadata": {},
   "outputs": [
    {
     "data": {
      "text/plain": [
       "int"
      ]
     },
     "execution_count": 3,
     "metadata": {},
     "output_type": "execute_result"
    }
   ],
   "source": [
    "type(a)"
   ]
  },
  {
   "cell_type": "code",
   "execution_count": 4,
   "id": "b64d07ed-1729-47a8-beba-36c245da2434",
   "metadata": {},
   "outputs": [],
   "source": [
    "b = 1.1"
   ]
  },
  {
   "cell_type": "code",
   "execution_count": 5,
   "id": "0059c516-d343-4263-acd1-05c9d6f59456",
   "metadata": {},
   "outputs": [
    {
     "data": {
      "text/plain": [
       "1.1"
      ]
     },
     "execution_count": 5,
     "metadata": {},
     "output_type": "execute_result"
    }
   ],
   "source": [
    "b"
   ]
  },
  {
   "cell_type": "code",
   "execution_count": 6,
   "id": "0e73f8e6-82a3-41f5-b98f-315a2e4b515f",
   "metadata": {},
   "outputs": [
    {
     "data": {
      "text/plain": [
       "float"
      ]
     },
     "execution_count": 6,
     "metadata": {},
     "output_type": "execute_result"
    }
   ],
   "source": [
    "type(b)"
   ]
  },
  {
   "cell_type": "code",
   "execution_count": 7,
   "id": "ce3824b0-41bc-4e6f-95cb-648bfb13a6eb",
   "metadata": {},
   "outputs": [],
   "source": [
    "c = 1 + 1j"
   ]
  },
  {
   "cell_type": "code",
   "execution_count": 8,
   "id": "5fafd9b9-9275-4582-a921-6dc6ae360495",
   "metadata": {},
   "outputs": [
    {
     "data": {
      "text/plain": [
       "(1+1j)"
      ]
     },
     "execution_count": 8,
     "metadata": {},
     "output_type": "execute_result"
    }
   ],
   "source": [
    "c"
   ]
  },
  {
   "cell_type": "code",
   "execution_count": 9,
   "id": "adbca0ac-d3cc-47db-a653-794af530a008",
   "metadata": {},
   "outputs": [
    {
     "data": {
      "text/plain": [
       "complex"
      ]
     },
     "execution_count": 9,
     "metadata": {},
     "output_type": "execute_result"
    }
   ],
   "source": [
    "type(c)"
   ]
  },
  {
   "cell_type": "code",
   "execution_count": 10,
   "id": "6b52f3e6-f85f-4bdf-84a0-872258203f8f",
   "metadata": {},
   "outputs": [
    {
     "ename": "SyntaxError",
     "evalue": "invalid decimal literal (1186654684.py, line 1)",
     "output_type": "error",
     "traceback": [
      "\u001b[1;36m  Cell \u001b[1;32mIn[10], line 1\u001b[1;36m\u001b[0m\n\u001b[1;33m    c = 2 + 3d\u001b[0m\n\u001b[1;37m            ^\u001b[0m\n\u001b[1;31mSyntaxError\u001b[0m\u001b[1;31m:\u001b[0m invalid decimal literal\n"
     ]
    }
   ],
   "source": [
    "c = 2 + 3d"
   ]
  },
  {
   "cell_type": "code",
   "execution_count": 11,
   "id": "416d328c-6054-4706-9bdf-1ff49ea53688",
   "metadata": {},
   "outputs": [],
   "source": [
    "c = 4j"
   ]
  },
  {
   "cell_type": "code",
   "execution_count": 12,
   "id": "361fd0a3-e8dd-416f-b24e-10dc0b6b3cbd",
   "metadata": {},
   "outputs": [
    {
     "data": {
      "text/plain": [
       "4j"
      ]
     },
     "execution_count": 12,
     "metadata": {},
     "output_type": "execute_result"
    }
   ],
   "source": [
    "c"
   ]
  },
  {
   "cell_type": "code",
   "execution_count": 13,
   "id": "fdb7de8f-f0bd-4615-ae69-1f715a8c5dff",
   "metadata": {},
   "outputs": [],
   "source": [
    "a = True"
   ]
  },
  {
   "cell_type": "code",
   "execution_count": 14,
   "id": "da9a7473-8dd2-49ba-bbf3-2838f71d9c84",
   "metadata": {},
   "outputs": [
    {
     "data": {
      "text/plain": [
       "True"
      ]
     },
     "execution_count": 14,
     "metadata": {},
     "output_type": "execute_result"
    }
   ],
   "source": [
    "a"
   ]
  },
  {
   "cell_type": "code",
   "execution_count": 15,
   "id": "1e06e1be-5d86-401b-97f6-764498b3458b",
   "metadata": {},
   "outputs": [
    {
     "data": {
      "text/plain": [
       "bool"
      ]
     },
     "execution_count": 15,
     "metadata": {},
     "output_type": "execute_result"
    }
   ],
   "source": [
    "type (a)"
   ]
  },
  {
   "cell_type": "code",
   "execution_count": 1,
   "id": "c8748a39-cf6c-4760-837a-2e5bfab146f7",
   "metadata": {},
   "outputs": [],
   "source": [
    "a = '''\n",
    "hello my name\n",
    "'''"
   ]
  },
  {
   "cell_type": "code",
   "execution_count": 4,
   "id": "a7f5a12a-0d1a-4a76-b8f3-865911a11974",
   "metadata": {},
   "outputs": [
    {
     "name": "stdout",
     "output_type": "stream",
     "text": [
      "길동이는 20살입니다.\n"
     ]
    }
   ],
   "source": [
    "age = 20\n",
    "print(f'길동이는 {age}살입니다.')"
   ]
  },
  {
   "cell_type": "code",
   "execution_count": 5,
   "id": "63e80d20-50c9-48b6-b174-a197eb232b55",
   "metadata": {},
   "outputs": [
    {
     "name": "stdin",
     "output_type": "stream",
     "text": [
      " 25\n"
     ]
    },
    {
     "name": "stdout",
     "output_type": "stream",
     "text": [
      "길동이는 25살입니다.\n"
     ]
    }
   ],
   "source": [
    "age = int(input())\n",
    "print(f'길동이는 {age}살입니다.')"
   ]
  },
  {
   "cell_type": "code",
   "execution_count": 8,
   "id": "2781ab88-4a6b-49fa-bda3-356fe077588d",
   "metadata": {},
   "outputs": [
    {
     "name": "stdout",
     "output_type": "stream",
     "text": [
      "True\n",
      "True\n"
     ]
    }
   ],
   "source": [
    "print(True and True)\n",
    "print(True or False)"
   ]
  },
  {
   "cell_type": "code",
   "execution_count": 17,
   "id": "214ad39e-685f-45fe-ba2e-ecab7dad01ff",
   "metadata": {},
   "outputs": [
    {
     "data": {
      "text/plain": [
       "2.0"
      ]
     },
     "execution_count": 17,
     "metadata": {},
     "output_type": "execute_result"
    }
   ],
   "source": [
    "a = 2\n",
    "b = 3 \n",
    "a = a + b\n",
    "a = a - b\n",
    "a = a * b\n",
    "a = a / b\n",
    "a"
   ]
  },
  {
   "cell_type": "code",
   "execution_count": 18,
   "id": "8b2233e6-7322-45c8-b902-a0bd1ca5bad1",
   "metadata": {},
   "outputs": [
    {
     "ename": "ValueError",
     "evalue": "invalid literal for int() with base 10: 'banana'",
     "output_type": "error",
     "traceback": [
      "\u001b[1;31m---------------------------------------------------------------------------\u001b[0m",
      "\u001b[1;31mValueError\u001b[0m                                Traceback (most recent call last)",
      "Cell \u001b[1;32mIn[18], line 2\u001b[0m\n\u001b[0;32m      1\u001b[0m c \u001b[38;5;241m=\u001b[39m \u001b[38;5;124m'\u001b[39m\u001b[38;5;124mbanana\u001b[39m\u001b[38;5;124m'\u001b[39m\n\u001b[1;32m----> 2\u001b[0m d \u001b[38;5;241m=\u001b[39m \u001b[38;5;28;43mint\u001b[39;49m\u001b[43m(\u001b[49m\u001b[43mc\u001b[49m\u001b[43m)\u001b[49m\n",
      "\u001b[1;31mValueError\u001b[0m: invalid literal for int() with base 10: 'banana'"
     ]
    }
   ],
   "source": [
    "c = 'banana'\n",
    "d = int(c)"
   ]
  },
  {
   "cell_type": "code",
   "execution_count": 20,
   "id": "6ae3f7cd-96f3-402f-b58b-330a9b18f5ee",
   "metadata": {},
   "outputs": [
    {
     "name": "stdout",
     "output_type": "stream",
     "text": [
      "False\n",
      "True\n"
     ]
    }
   ],
   "source": [
    "print(bool([]))\n",
    "print(bool([2,3]))"
   ]
  },
  {
   "cell_type": "code",
   "execution_count": 1,
   "id": "92b08341-7f93-43b1-abda-02b613c38f2a",
   "metadata": {},
   "outputs": [],
   "source": [
    "def solution(numbers):\n",
    "    sum_numbers = 0\n",
    "    for item in numbers:\n",
    "        sum_numbers = sum_numbers + item\n",
    "    answer =  input(int(print(sum_numbers // len(numbers))))   \n",
    "    return answer\n"
   ]
  },
  {
   "cell_type": "code",
   "execution_count": 2,
   "id": "0e64b28c-4446-4340-9c22-59c7a8b237bb",
   "metadata": {},
   "outputs": [
    {
     "data": {
      "text/plain": [
       "[1, 2, 3, 4, 5, 6, 7, 8, 9, 10]"
      ]
     },
     "execution_count": 2,
     "metadata": {},
     "output_type": "execute_result"
    }
   ],
   "source": [
    "[1, 2, 3, 4, 5, 6, 7, 8, 9, 10]"
   ]
  },
  {
   "cell_type": "code",
   "execution_count": 3,
   "id": "4f7f4040-f0d7-4010-8499-2b033f8209e1",
   "metadata": {},
   "outputs": [
    {
     "name": "stdout",
     "output_type": "stream",
     "text": [
      "5\n"
     ]
    },
    {
     "ename": "TypeError",
     "evalue": "int() argument must be a string, a bytes-like object or a real number, not 'NoneType'",
     "output_type": "error",
     "traceback": [
      "\u001b[1;31m---------------------------------------------------------------------------\u001b[0m",
      "\u001b[1;31mTypeError\u001b[0m                                 Traceback (most recent call last)",
      "Cell \u001b[1;32mIn[3], line 1\u001b[0m\n\u001b[1;32m----> 1\u001b[0m \u001b[43msolution\u001b[49m\u001b[43m(\u001b[49m\u001b[43m[\u001b[49m\u001b[38;5;241;43m1\u001b[39;49m\u001b[43m,\u001b[49m\u001b[43m \u001b[49m\u001b[38;5;241;43m2\u001b[39;49m\u001b[43m,\u001b[49m\u001b[43m \u001b[49m\u001b[38;5;241;43m3\u001b[39;49m\u001b[43m,\u001b[49m\u001b[43m \u001b[49m\u001b[38;5;241;43m4\u001b[39;49m\u001b[43m,\u001b[49m\u001b[43m \u001b[49m\u001b[38;5;241;43m5\u001b[39;49m\u001b[43m,\u001b[49m\u001b[43m \u001b[49m\u001b[38;5;241;43m6\u001b[39;49m\u001b[43m,\u001b[49m\u001b[43m \u001b[49m\u001b[38;5;241;43m7\u001b[39;49m\u001b[43m,\u001b[49m\u001b[43m \u001b[49m\u001b[38;5;241;43m8\u001b[39;49m\u001b[43m,\u001b[49m\u001b[43m \u001b[49m\u001b[38;5;241;43m9\u001b[39;49m\u001b[43m,\u001b[49m\u001b[43m \u001b[49m\u001b[38;5;241;43m10\u001b[39;49m\u001b[43m]\u001b[49m\u001b[43m)\u001b[49m\n",
      "Cell \u001b[1;32mIn[1], line 5\u001b[0m, in \u001b[0;36msolution\u001b[1;34m(numbers)\u001b[0m\n\u001b[0;32m      3\u001b[0m \u001b[38;5;28;01mfor\u001b[39;00m item \u001b[38;5;129;01min\u001b[39;00m numbers:\n\u001b[0;32m      4\u001b[0m     sum_numbers \u001b[38;5;241m=\u001b[39m sum_numbers \u001b[38;5;241m+\u001b[39m item\n\u001b[1;32m----> 5\u001b[0m answer \u001b[38;5;241m=\u001b[39m  \u001b[38;5;28minput\u001b[39m(\u001b[38;5;28;43mint\u001b[39;49m\u001b[43m(\u001b[49m\u001b[38;5;28;43mprint\u001b[39;49m\u001b[43m(\u001b[49m\u001b[43msum_numbers\u001b[49m\u001b[43m \u001b[49m\u001b[38;5;241;43m/\u001b[39;49m\u001b[38;5;241;43m/\u001b[39;49m\u001b[43m \u001b[49m\u001b[38;5;28;43mlen\u001b[39;49m\u001b[43m(\u001b[49m\u001b[43mnumbers\u001b[49m\u001b[43m)\u001b[49m\u001b[43m)\u001b[49m\u001b[43m)\u001b[49m)   \n\u001b[0;32m      6\u001b[0m \u001b[38;5;28;01mreturn\u001b[39;00m answer\n",
      "\u001b[1;31mTypeError\u001b[0m: int() argument must be a string, a bytes-like object or a real number, not 'NoneType'"
     ]
    }
   ],
   "source": [
    "solution([1, 2, 3, 4, 5, 6, 7, 8, 9, 10])"
   ]
  },
  {
   "cell_type": "code",
   "execution_count": 4,
   "id": "9038ab56-f6af-41c5-a98f-88f3a878793a",
   "metadata": {},
   "outputs": [],
   "source": [
    "def solution(numbers):\n",
    "    sum_numbers = 0\n",
    "    for item in numbers:\n",
    "        sum_numbers = sum_numbers + item\n",
    "    answer = print(sum_numbers // len(numbers))   \n",
    "    return answer"
   ]
  },
  {
   "cell_type": "code",
   "execution_count": 5,
   "id": "2fbaabd5-c290-47e9-bfe9-a379593ea1a3",
   "metadata": {},
   "outputs": [
    {
     "name": "stdout",
     "output_type": "stream",
     "text": [
      "5\n"
     ]
    }
   ],
   "source": [
    "solution([1, 2, 3, 4, 5, 6, 7, 8, 9, 10])"
   ]
  },
  {
   "cell_type": "code",
   "execution_count": 6,
   "id": "93d15141-2e32-45cf-b61f-657cd74cf587",
   "metadata": {},
   "outputs": [],
   "source": [
    "def solution(numbers):\n",
    "    sum_numbers = 0\n",
    "    for item in numbers:\n",
    "        sum_numbers = sum_numbers + item\n",
    "    answer = sum_numbers / len(numbers)   \n",
    "    return answer"
   ]
  },
  {
   "cell_type": "code",
   "execution_count": 7,
   "id": "2163797b-8980-4653-a1bc-8a3bcbdd8aca",
   "metadata": {},
   "outputs": [
    {
     "data": {
      "text/plain": [
       "5.5"
      ]
     },
     "execution_count": 7,
     "metadata": {},
     "output_type": "execute_result"
    }
   ],
   "source": [
    "solution([1, 2, 3, 4, 5, 6, 7, 8, 9, 10])"
   ]
  },
  {
   "cell_type": "code",
   "execution_count": 10,
   "id": "0f24ac49-7b18-42cf-8e35-57788896e016",
   "metadata": {},
   "outputs": [
    {
     "name": "stdin",
     "output_type": "stream",
     "text": [
      " 2\n"
     ]
    },
    {
     "name": "stdout",
     "output_type": "stream",
     "text": [
      "even\n"
     ]
    }
   ],
   "source": [
    "num = input()\n",
    "if int(num) % 2 == 1:\n",
    "    print ('odd')\n",
    "else :\n",
    "    print('even')"
   ]
  },
  {
   "cell_type": "code",
   "execution_count": 4,
   "id": "d54c0121-8f3e-45a2-a6b5-bd4b50deb958",
   "metadata": {},
   "outputs": [
    {
     "ename": "SyntaxError",
     "evalue": "expected ':' (3221328560.py, line 3)",
     "output_type": "error",
     "traceback": [
      "\u001b[1;36m  Cell \u001b[1;32mIn[4], line 3\u001b[1;36m\u001b[0m\n\u001b[1;33m    def my_list_sum(my_list)\u001b[0m\n\u001b[1;37m                            ^\u001b[0m\n\u001b[1;31mSyntaxError\u001b[0m\u001b[1;31m:\u001b[0m expected ':'\n"
     ]
    }
   ],
   "source": [
    "my_list= [str(n)]\n",
    "def my_list_sum(my_list)\n",
    "    result = 0\n",
    "    \n",
    "    for number in my_list:\n",
    "        result = result + number\n",
    "        print(result)"
   ]
  },
  {
   "cell_type": "code",
   "execution_count": 19,
   "id": "6ace4983-28b6-41e5-946d-b05a4829bf05",
   "metadata": {},
   "outputs": [],
   "source": [
    "def my_list_sum(my_list):\n",
    "    result = 0\n",
    "    for number in my_list:\n",
    "        result = result + int(number)\n",
    "    return result"
   ]
  },
  {
   "cell_type": "code",
   "execution_count": 21,
   "id": "33efd670-b67a-4dd1-9681-283599c05370",
   "metadata": {},
   "outputs": [
    {
     "name": "stdout",
     "output_type": "stream",
     "text": [
      "10\n"
     ]
    }
   ],
   "source": [
    "n=1234\n",
    "my_list= str(n)\n",
    "print(my_list_sum(my_list))\n"
   ]
  },
  {
   "cell_type": "code",
   "execution_count": 34,
   "id": "e855bd64-dba0-4ac4-9f4a-4fb9392a0d42",
   "metadata": {},
   "outputs": [],
   "source": [
    "def solution(my_string, letter):\n",
    "    answer = letter\n",
    "    for letter in my_string:\n",
    "        my_string.remove(letter)\n",
    "    return answer"
   ]
  },
  {
   "cell_type": "code",
   "execution_count": 35,
   "id": "f720e46a-1ac1-4c33-ae66-91df2e2b25d8",
   "metadata": {},
   "outputs": [
    {
     "ename": "SyntaxError",
     "evalue": "expected ':' (460670887.py, line 1)",
     "output_type": "error",
     "traceback": [
      "\u001b[1;36m  Cell \u001b[1;32mIn[35], line 1\u001b[1;36m\u001b[0m\n\u001b[1;33m    def soultion(abcdef, f)\u001b[0m\n\u001b[1;37m                           ^\u001b[0m\n\u001b[1;31mSyntaxError\u001b[0m\u001b[1;31m:\u001b[0m expected ':'\n"
     ]
    }
   ],
   "source": [
    "def soultion(abcdef, f)"
   ]
  },
  {
   "cell_type": "code",
   "execution_count": null,
   "id": "37da1094-cb95-4df0-baca-a04bfc8334bd",
   "metadata": {},
   "outputs": [],
   "source": []
  }
 ],
 "metadata": {
  "kernelspec": {
   "display_name": "Python 3 (ipykernel)",
   "language": "python",
   "name": "python3"
  },
  "language_info": {
   "codemirror_mode": {
    "name": "ipython",
    "version": 3
   },
   "file_extension": ".py",
   "mimetype": "text/x-python",
   "name": "python",
   "nbconvert_exporter": "python",
   "pygments_lexer": "ipython3",
   "version": "3.13.2"
  }
 },
 "nbformat": 4,
 "nbformat_minor": 5
}
