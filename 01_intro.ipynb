{
 "cells": [
  {
   "cell_type": "markdown",
   "id": "56b0a2b6-276a-4376-8295-2719e3722a19",
   "metadata": {},
   "source": [
    "# 01. intro\n",
    "\n",
    "## shortcut\n",
    "\n",
    "- ctrl + enter : 현재 셀 실행\n",
    "- shit + enter : 현재 셀 실행 & 아래로 이동\n",
    "- alt + enter : 현재 셀 실행 & 아래에 새로운 셀 추가\n",
    "\n",
    "## 주의사항\n",
    "1. Apple / apple : 대소문자 주의\n",
    "2. git add. / git add . : 띄어쓰기 주의\n",
    "3. message / massage : 스펠링 주의"
   ]
  },
  {
   "cell_type": "markdown",
   "id": "7f8c3a2f-ca92-40e1-97b6-e4752df0a1c3",
   "metadata": {},
   "source": [
    "# 01. 변수\n",
    "\n",
    "```\n",
    "var_name = value\n",
    "```\n",
    "\n",
    "- 변수이름은 어떤 이름이든 사용 가능\n",
    "- 다만 영어, 숫자, _를 이용해서 선언\n",
    "- 키워드는 불가능"
   ]
  },
  {
   "cell_type": "code",
   "execution_count": 3,
   "id": "51770153-0fa4-411b-8795-c8b055036097",
   "metadata": {},
   "outputs": [
    {
     "data": {
      "text/plain": [
       "['False',\n",
       " 'None',\n",
       " 'True',\n",
       " 'and',\n",
       " 'as',\n",
       " 'assert',\n",
       " 'async',\n",
       " 'await',\n",
       " 'break',\n",
       " 'class',\n",
       " 'continue',\n",
       " 'def',\n",
       " 'del',\n",
       " 'elif',\n",
       " 'else',\n",
       " 'except',\n",
       " 'finally',\n",
       " 'for',\n",
       " 'from',\n",
       " 'global',\n",
       " 'if',\n",
       " 'import',\n",
       " 'in',\n",
       " 'is',\n",
       " 'lambda',\n",
       " 'nonlocal',\n",
       " 'not',\n",
       " 'or',\n",
       " 'pass',\n",
       " 'raise',\n",
       " 'return',\n",
       " 'try',\n",
       " 'while',\n",
       " 'with',\n",
       " 'yield']"
      ]
     },
     "execution_count": 3,
     "metadata": {},
     "output_type": "execute_result"
    }
   ],
   "source": [
    "a = 1\n",
    "\n",
    "import keyword\n",
    "keyword.kwlist"
   ]
  },
  {
   "cell_type": "markdown",
   "id": "d030d2d1-72f7-4c4c-a025-858c64deb602",
   "metadata": {},
   "source": [
    "1-1. number"
   ]
  },
  {
   "cell_type": "code",
   "execution_count": 4,
   "id": "18797c7f-ff78-45ef-b4c0-e6a6e0b93873",
   "metadata": {},
   "outputs": [],
   "source": [
    "a = 10000"
   ]
  },
  {
   "cell_type": "code",
   "execution_count": 5,
   "id": "c920f62c-1506-40fc-9209-947b85c3c4fa",
   "metadata": {},
   "outputs": [
    {
     "data": {
      "text/plain": [
       "10000"
      ]
     },
     "execution_count": 5,
     "metadata": {},
     "output_type": "execute_result"
    }
   ],
   "source": [
    "a"
   ]
  },
  {
   "cell_type": "code",
   "execution_count": 6,
   "id": "f3efb287-8edd-4a5d-ab45-57e6fee67221",
   "metadata": {},
   "outputs": [
    {
     "data": {
      "text/plain": [
       "int"
      ]
     },
     "execution_count": 6,
     "metadata": {},
     "output_type": "execute_result"
    }
   ],
   "source": [
    "type(a)"
   ]
  },
  {
   "cell_type": "code",
   "execution_count": 10,
   "id": "f10def29-0dd7-4fc9-adbd-5eb93c03a227",
   "metadata": {},
   "outputs": [],
   "source": [
    "b = 1.1"
   ]
  },
  {
   "cell_type": "code",
   "execution_count": 11,
   "id": "c4f9b8d7-f50c-400c-89e7-7b30287eab3f",
   "metadata": {},
   "outputs": [
    {
     "data": {
      "text/plain": [
       "1.1"
      ]
     },
     "execution_count": 11,
     "metadata": {},
     "output_type": "execute_result"
    }
   ],
   "source": [
    "b"
   ]
  },
  {
   "cell_type": "code",
   "execution_count": 12,
   "id": "a53df7a2-5acc-4970-8f0d-afb53d0c4d05",
   "metadata": {},
   "outputs": [
    {
     "data": {
      "text/plain": [
       "float"
      ]
     },
     "execution_count": 12,
     "metadata": {},
     "output_type": "execute_result"
    }
   ],
   "source": [
    "type(b)"
   ]
  },
  {
   "cell_type": "code",
   "execution_count": 13,
   "id": "641c93d0-bc0b-40c6-a89f-875863e096ff",
   "metadata": {},
   "outputs": [],
   "source": [
    "c = 1 + 1j"
   ]
  },
  {
   "cell_type": "code",
   "execution_count": 14,
   "id": "bee2521b-fbde-4425-aaee-31c9f90322cc",
   "metadata": {},
   "outputs": [
    {
     "data": {
      "text/plain": [
       "(1+1j)"
      ]
     },
     "execution_count": 14,
     "metadata": {},
     "output_type": "execute_result"
    }
   ],
   "source": [
    "c"
   ]
  },
  {
   "cell_type": "code",
   "execution_count": 15,
   "id": "4553844c-25a3-4994-a522-c3d5d44d3ded",
   "metadata": {},
   "outputs": [
    {
     "data": {
      "text/plain": [
       "complex"
      ]
     },
     "execution_count": 15,
     "metadata": {},
     "output_type": "execute_result"
    }
   ],
   "source": [
    "type(c)"
   ]
  },
  {
   "cell_type": "markdown",
   "id": "0e586f5e-7936-4f9a-a88a-06524c61f789",
   "metadata": {},
   "source": [
    "# 1.2 boolean"
   ]
  },
  {
   "cell_type": "code",
   "execution_count": 16,
   "id": "ac65c8bc-7adc-4207-9e8d-e308b4fe2eb5",
   "metadata": {},
   "outputs": [],
   "source": [
    "a = True"
   ]
  },
  {
   "cell_type": "code",
   "execution_count": 17,
   "id": "0404e0ed-25c1-434b-bdc4-6ade4cfe3091",
   "metadata": {},
   "outputs": [
    {
     "data": {
      "text/plain": [
       "True"
      ]
     },
     "execution_count": 17,
     "metadata": {},
     "output_type": "execute_result"
    }
   ],
   "source": [
    "a"
   ]
  },
  {
   "cell_type": "code",
   "execution_count": 19,
   "id": "2f633d7d-2892-4aca-9cca-61b6df266b31",
   "metadata": {},
   "outputs": [
    {
     "data": {
      "text/plain": [
       "bool"
      ]
     },
     "execution_count": 19,
     "metadata": {},
     "output_type": "execute_result"
    }
   ],
   "source": [
    "type(a)"
   ]
  },
  {
   "cell_type": "code",
   "execution_count": 24,
   "id": "8961aafb-72c0-43a7-9358-beb0ce0aab25",
   "metadata": {},
   "outputs": [],
   "source": [
    "b = False"
   ]
  },
  {
   "cell_type": "code",
   "execution_count": 26,
   "id": "a9c9e9b0-fa72-4774-a2d5-e5bf7d7b4ab0",
   "metadata": {},
   "outputs": [
    {
     "data": {
      "text/plain": [
       "False"
      ]
     },
     "execution_count": 26,
     "metadata": {},
     "output_type": "execute_result"
    }
   ],
   "source": [
    "b"
   ]
  },
  {
   "cell_type": "markdown",
   "id": "7c0261dd-4c9e-4ae8-afa9-09c99ea702d5",
   "metadata": {},
   "source": [
    "## 1.3 string\n",
    "- `' `, `'' `를 이용하여 표현"
   ]
  },
  {
   "cell_type": "code",
   "execution_count": 27,
   "id": "0569f46a-8c30-4731-a94e-8b8434ac2fe1",
   "metadata": {},
   "outputs": [],
   "source": [
    "a = 'hello'"
   ]
  },
  {
   "cell_type": "code",
   "execution_count": 28,
   "id": "9fcb0d8b-3ef9-48eb-a7c9-86cec75792ab",
   "metadata": {},
   "outputs": [],
   "source": [
    "(b = 'hi'"
   ]
  },
  {
   "cell_type": "code",
   "execution_count": 29,
   "id": "15299fb4-6de5-4ea2-a2c6-e9b532178ff7",
   "metadata": {},
   "outputs": [
    {
     "data": {
      "text/plain": [
       "'hi'"
      ]
     },
     "execution_count": 29,
     "metadata": {},
     "output_type": "execute_result"
    }
   ],
   "source": [
    "b"
   ]
  },
  {
   "cell_type": "code",
   "execution_count": 30,
   "id": "c11fd5ca-63d2-4331-b0b5-71848543230e",
   "metadata": {},
   "outputs": [
    {
     "name": "stdout",
     "output_type": "stream",
     "text": [
      "hello\n"
     ]
    }
   ],
   "source": [
    "print('hello')"
   ]
  },
  {
   "cell_type": "code",
   "execution_count": 32,
   "id": "440bc227-d771-489c-bb42-5067172533c5",
   "metadata": {},
   "outputs": [
    {
     "name": "stdout",
     "output_type": "stream",
     "text": [
      "hello my name is 'dain'\n"
     ]
    }
   ],
   "source": [
    "print(\"hello my name is 'dain'\")"
   ]
  },
  {
   "cell_type": "code",
   "execution_count": 37,
   "id": "29b89f95-1c9b-47cb-a8fc-c38a28e2b066",
   "metadata": {},
   "outputs": [
    {
     "name": "stdout",
     "output_type": "stream",
     "text": [
      "hello my name is 'dain'\n"
     ]
    }
   ],
   "source": [
    "print('hello my name is \\'dain\\'')"
   ]
  },
  {
   "cell_type": "code",
   "execution_count": 45,
   "id": "992dcdcd-cde8-4ac4-901a-bede97e3913b",
   "metadata": {},
   "outputs": [],
   "source": [
    "a = '''\n",
    "hello my name\n",
    "'''"
   ]
  },
  {
   "cell_type": "code",
   "execution_count": 46,
   "id": "b9d9250c-d20f-4c90-a9b0-43b4b65620f3",
   "metadata": {},
   "outputs": [
    {
     "data": {
      "text/plain": [
       "'\\nhello my name\\n'"
      ]
     },
     "execution_count": 46,
     "metadata": {},
     "output_type": "execute_result"
    }
   ],
   "source": [
    "a"
   ]
  },
  {
   "cell_type": "code",
   "execution_count": 47,
   "id": "80d29ac8-c04e-4f20-bd95-b0a501c60962",
   "metadata": {},
   "outputs": [],
   "source": [
    "a = 10\n",
    "b = '홍길동은 a살입니다.'"
   ]
  },
  {
   "cell_type": "markdown",
   "id": "f73cd7fd-f830-4625-a952-de25994b5717",
   "metadata": {},
   "source": [
    "### string interpolation\n",
    "\n",
    "- %-formatting\n",
    "- sr.format()\n",
    "- f-string"
   ]
  },
  {
   "cell_type": "code",
   "execution_count": 50,
   "id": "8e367154-2d90-46f9-84e1-c3ae564cbf81",
   "metadata": {},
   "outputs": [],
   "source": [
    "age = 10"
   ]
  },
  {
   "cell_type": "code",
   "execution_count": 51,
   "id": "ff9e048a-b1d2-4f8a-9027-e0cf7e50d720",
   "metadata": {},
   "outputs": [
    {
     "name": "stdout",
     "output_type": "stream",
     "text": [
      "홍길동은 10살입니다.\n"
     ]
    }
   ],
   "source": [
    "print('홍길동은 %s살입니다.' % age)"
   ]
  },
  {
   "cell_type": "code",
   "execution_count": 53,
   "id": "02da1774-2b87-48a8-941b-e5c161830e06",
   "metadata": {},
   "outputs": [
    {
     "name": "stdout",
     "output_type": "stream",
     "text": [
      "홍길동은 10살입니다.\n"
     ]
    }
   ],
   "source": [
    "print('홍길동은 {}살입니다.' .format(age))"
   ]
  },
  {
   "cell_type": "code",
   "execution_count": 55,
   "id": "82c32a3c-eb6f-48d6-9786-16e252d83ea2",
   "metadata": {},
   "outputs": [
    {
     "name": "stdout",
     "output_type": "stream",
     "text": [
      "홍길동은 10살입니다.\n"
     ]
    }
   ],
   "source": [
    "print(f'홍길동은 {age}살입니다.')"
   ]
  },
  {
   "cell_type": "markdown",
   "id": "faf3239c-58b6-4c3c-add3-ad290cfec83e",
   "metadata": {},
   "source": [
    "## 02. 연산자"
   ]
  },
  {
   "cell_type": "markdown",
   "id": "57b5cbc1-e747-4a62-8cd4-d82bf26fa43d",
   "metadata": {},
   "source": [
    "## 2.1 산술연산자"
   ]
  },
  {
   "cell_type": "code",
   "execution_count": 63,
   "id": "cfb99fec-9514-446e-a041-20e53bd2d704",
   "metadata": {},
   "outputs": [],
   "source": [
    "a = 5\n",
    "b = 2"
   ]
  },
  {
   "cell_type": "code",
   "execution_count": 64,
   "id": "14dd06b5-1402-4083-b0c8-7909bdb13936",
   "metadata": {},
   "outputs": [
    {
     "name": "stdout",
     "output_type": "stream",
     "text": [
      "7\n",
      "3\n",
      "10\n",
      "2.5\n"
     ]
    }
   ],
   "source": [
    "print (a + b)\n",
    "print (a - b)\n",
    "print (a * b)\n",
    "print (a / b)"
   ]
  },
  {
   "cell_type": "code",
   "execution_count": 66,
   "id": "2234f652-a212-4db1-99f5-80934f2e377f",
   "metadata": {},
   "outputs": [
    {
     "name": "stdout",
     "output_type": "stream",
     "text": [
      "25\n",
      "2\n",
      "1\n"
     ]
    }
   ],
   "source": [
    "print (a ** b)\n",
    "print (a // b)\n",
    "print (a % b)"
   ]
  },
  {
   "cell_type": "code",
   "execution_count": 68,
   "id": "839038c2-c418-4a3b-a434-ed1cc4461990",
   "metadata": {},
   "outputs": [
    {
     "name": "stdout",
     "output_type": "stream",
     "text": [
      "(2, 1)\n"
     ]
    }
   ],
   "source": [
    "result = divmod(a, b)\n",
    "print(result)"
   ]
  },
  {
   "cell_type": "markdown",
   "id": "ed4dffcd-970b-4f7f-9d18-c3c1f5bc673c",
   "metadata": {},
   "source": [
    "## 2.2 비교연산자"
   ]
  },
  {
   "cell_type": "code",
   "execution_count": 69,
   "id": "8185b5fc-6744-46f2-8858-d4cee58810bf",
   "metadata": {},
   "outputs": [],
   "source": [
    "a = 5\n",
    "b = 10"
   ]
  },
  {
   "cell_type": "code",
   "execution_count": 74,
   "id": "82224aef-d2d5-4902-a7be-5d5e1a49d214",
   "metadata": {},
   "outputs": [
    {
     "name": "stdout",
     "output_type": "stream",
     "text": [
      "False\n",
      "True\n",
      "False\n",
      "True\n"
     ]
    }
   ],
   "source": [
    "print (a > b)\n",
    "print (a < b)\n",
    "print (a >= b)\n",
    "print (a <= b)"
   ]
  },
  {
   "cell_type": "code",
   "execution_count": 76,
   "id": "0adb1261-0d3e-48ff-a8c3-0a64862f2bd8",
   "metadata": {},
   "outputs": [
    {
     "name": "stdout",
     "output_type": "stream",
     "text": [
      "False\n",
      "True\n"
     ]
    }
   ],
   "source": [
    "print (a == b)\n",
    "print (a != b)"
   ]
  },
  {
   "cell_type": "code",
   "execution_count": 81,
   "id": "2186f149-9aa2-4fb8-a14c-eb923709b113",
   "metadata": {},
   "outputs": [
    {
     "name": "stdout",
     "output_type": "stream",
     "text": [
      "True\n",
      "False\n"
     ]
    }
   ],
   "source": [
    "print ('hi' == 'hi')\n",
    "print ('hi' == 'Hi')"
   ]
  },
  {
   "cell_type": "markdown",
   "id": "6f518a80-dea7-46ff-ade6-eececf2dac39",
   "metadata": {},
   "source": [
    "## 2.3 논리연사자\n",
    "- and : 양쪽 모두 True 일 때, True를 반환\n",
    "- or : 양쪽 모두 False 일 때, False를 반환\n",
    "- not : 상태를 부정"
   ]
  },
  {
   "cell_type": "code",
   "execution_count": 83,
   "id": "c4904e6b-63bf-4ba1-933c-1cc0d6ae1506",
   "metadata": {},
   "outputs": [
    {
     "name": "stdout",
     "output_type": "stream",
     "text": [
      "True\n",
      "False\n",
      "False\n",
      "False\n"
     ]
    }
   ],
   "source": [
    "print(True and True)\n",
    "print(True and False)\n",
    "print(False and True)\n",
    "print(False and False)"
   ]
  },
  {
   "cell_type": "code",
   "execution_count": 84,
   "id": "388f890c-7c69-457c-a61e-4243f35729b3",
   "metadata": {},
   "outputs": [
    {
     "name": "stdout",
     "output_type": "stream",
     "text": [
      "True\n",
      "True\n",
      "True\n",
      "False\n"
     ]
    }
   ],
   "source": [
    "print(True or True)\n",
    "print(True or False)\n",
    "print(False or True)\n",
    "print(False or False)"
   ]
  },
  {
   "cell_type": "code",
   "execution_count": 88,
   "id": "cdc6957d-edad-489f-b814-d59802424acd",
   "metadata": {},
   "outputs": [
    {
     "name": "stdout",
     "output_type": "stream",
     "text": [
      "5\n",
      "0\n",
      "0\n",
      "0\n"
     ]
    }
   ],
   "source": [
    "# 단축평가\n",
    "print (3 and 5)\n",
    "print (3 and 0)\n",
    "print (0 and 5)\n",
    "print (0 and 0)"
   ]
  },
  {
   "cell_type": "code",
   "execution_count": 91,
   "id": "b38ad3af-264e-4809-a0b1-62b8fe5448c9",
   "metadata": {},
   "outputs": [
    {
     "name": "stdout",
     "output_type": "stream",
     "text": [
      "3\n",
      "3\n",
      "5\n",
      "0\n"
     ]
    }
   ],
   "source": [
    "print (3 or 5)\n",
    "print (3 or 0)\n",
    "print (0 or 5)\n",
    "print (0 or 0)"
   ]
  },
  {
   "cell_type": "markdown",
   "id": "6c070200-af1a-468c-b1be-f6575d8c4453",
   "metadata": {},
   "source": [
    "## 2.4 복합 연산자"
   ]
  },
  {
   "cell_type": "code",
   "execution_count": 103,
   "id": "0c8ee9be-6cf1-428e-a96b-6012bf5325a6",
   "metadata": {},
   "outputs": [],
   "source": [
    "a = 2\n",
    "b = 3"
   ]
  },
  {
   "cell_type": "code",
   "execution_count": 104,
   "id": "9113ac57-4c76-4a43-b032-3a0589ccae08",
   "metadata": {},
   "outputs": [],
   "source": [
    "a = a + b\n",
    "a = a - b\n",
    "a = a * b\n",
    "a = a / b"
   ]
  },
  {
   "cell_type": "code",
   "execution_count": 105,
   "id": "544b225d-a246-4b90-91c7-9899cabeb730",
   "metadata": {},
   "outputs": [
    {
     "data": {
      "text/plain": [
       "2.0"
      ]
     },
     "execution_count": 105,
     "metadata": {},
     "output_type": "execute_result"
    }
   ],
   "source": [
    "a"
   ]
  },
  {
   "cell_type": "code",
   "execution_count": 101,
   "id": "20f46e26-08cd-488e-b717-55f84f924a78",
   "metadata": {},
   "outputs": [],
   "source": [
    "a += b\n",
    "a -= b\n",
    "a *= b\n",
    "a /= b\n",
    "a //= b\n",
    "a %= b\n",
    "a **= b"
   ]
  },
  {
   "cell_type": "markdown",
   "id": "499a2eaa-b72a-471b-abe3-5e24d2884aa1",
   "metadata": {},
   "source": [
    "## 2.5 기타 연산자"
   ]
  },
  {
   "cell_type": "code",
   "execution_count": 106,
   "id": "507d25ef-fb6e-4ba6-9d08-f35dc8053cde",
   "metadata": {},
   "outputs": [],
   "source": [
    "a = 'hi'\n",
    "b = 'hello'"
   ]
  },
  {
   "cell_type": "code",
   "execution_count": 107,
   "id": "93709a92-e28c-4686-9ff4-7fe8f5af8d2e",
   "metadata": {},
   "outputs": [
    {
     "name": "stdout",
     "output_type": "stream",
     "text": [
      "hihello\n"
     ]
    }
   ],
   "source": [
    "# concatenation\n",
    "print (a + b)"
   ]
  },
  {
   "cell_type": "code",
   "execution_count": 108,
   "id": "f6cf3254-c634-471c-930a-6d88d243f7b4",
   "metadata": {},
   "outputs": [],
   "source": [
    "a = [1, 2, 3]\n",
    "b = [2, 3, 4]"
   ]
  },
  {
   "cell_type": "code",
   "execution_count": 109,
   "id": "8f2e77b6-e8ec-4456-b076-96edc1b0385d",
   "metadata": {},
   "outputs": [
    {
     "name": "stdout",
     "output_type": "stream",
     "text": [
      "[1, 2, 3, 2, 3, 4]\n"
     ]
    }
   ],
   "source": [
    "print (a + b)"
   ]
  },
  {
   "cell_type": "code",
   "execution_count": 111,
   "id": "be8620ae-7271-421b-91da-5c6e02db2ac3",
   "metadata": {},
   "outputs": [
    {
     "name": "stdout",
     "output_type": "stream",
     "text": [
      "True\n",
      "False\n"
     ]
    }
   ],
   "source": [
    "print (1 in a)\n",
    "print (10 in a)"
   ]
  },
  {
   "cell_type": "code",
   "execution_count": 121,
   "id": "3302d230-c865-450d-94c8-96205f6d3814",
   "metadata": {},
   "outputs": [],
   "source": [
    "a = 100\n",
    "b = 100\n",
    "\n",
    "#256 숫자까지는 true 로 나옴"
   ]
  },
  {
   "cell_type": "code",
   "execution_count": 122,
   "id": "826873c5-2f63-415e-9e01-817388dc5c62",
   "metadata": {},
   "outputs": [
    {
     "name": "stdout",
     "output_type": "stream",
     "text": [
      "True\n",
      "True\n"
     ]
    }
   ],
   "source": [
    "print (a == b)\n",
    "print (a is b)"
   ]
  },
  {
   "cell_type": "markdown",
   "id": "d8886f52-588a-4892-b8d9-a573d3d3b1df",
   "metadata": {},
   "source": [
    "### 연산자 우선순위\n",
    "0. ()를 통해서 그룹\n",
    "1. **\n",
    "2. 산술연산자(* , /)\n",
    "3. 산술연사자(+, -)\n",
    "4. 비교연산자, in, is\n",
    "5. not\n",
    "6. and\n",
    "7. or\n"
   ]
  },
  {
   "cell_type": "code",
   "execution_count": 124,
   "id": "df2aff33-9910-4022-b334-55b6885f7dda",
   "metadata": {},
   "outputs": [
    {
     "name": "stdout",
     "output_type": "stream",
     "text": [
      "-81\n",
      "81\n"
     ]
    }
   ],
   "source": [
    "print(-3 ** 4)\n",
    "print((-3)**4)"
   ]
  },
  {
   "cell_type": "markdown",
   "id": "3b5bf79e-c8af-431b-b3b3-6d077f0a5f27",
   "metadata": {},
   "source": [
    "### 3. 형변환\n",
    "## 3.1 암시적 형변환"
   ]
  },
  {
   "cell_type": "code",
   "execution_count": 125,
   "id": "01a16305-f0a6-4b95-8247-c1a0a45ddc8d",
   "metadata": {},
   "outputs": [],
   "source": [
    "a = True\n",
    "b = False\n",
    "c = 1"
   ]
  },
  {
   "cell_type": "code",
   "execution_count": 127,
   "id": "19fa3d99-0bb0-41f9-97e6-8d92c7157f5d",
   "metadata": {},
   "outputs": [
    {
     "name": "stdout",
     "output_type": "stream",
     "text": [
      "1\n",
      "2\n"
     ]
    }
   ],
   "source": [
    "print (a + b)\n",
    "print (a + c)"
   ]
  },
  {
   "cell_type": "markdown",
   "id": "e69f52f2-84aa-458a-9e00-f73a5e95dadc",
   "metadata": {},
   "source": [
    "## 3.2 명시적 형변환\n",
    "- int() > 정수\n",
    "- float()\n",
    "- str() > 문자열\n",
    "- bool()"
   ]
  },
  {
   "cell_type": "code",
   "execution_count": 130,
   "id": "5da8f159-18f1-412c-90fe-1eb6b444ba89",
   "metadata": {},
   "outputs": [],
   "source": [
    "a = '1'\n",
    "b = '반'"
   ]
  },
  {
   "cell_type": "code",
   "execution_count": 131,
   "id": "32d42993-59c1-42b9-bb0b-e47cde3d437f",
   "metadata": {},
   "outputs": [
    {
     "name": "stdout",
     "output_type": "stream",
     "text": [
      "1반\n"
     ]
    }
   ],
   "source": [
    "print (a + b)"
   ]
  },
  {
   "cell_type": "code",
   "execution_count": 132,
   "id": "4adeb0c5-7b8f-441f-be67-bbe74d233251",
   "metadata": {},
   "outputs": [
    {
     "name": "stdout",
     "output_type": "stream",
     "text": [
      "1반\n"
     ]
    }
   ],
   "source": [
    "print(str(a) + b)"
   ]
  },
  {
   "cell_type": "code",
   "execution_count": 137,
   "id": "93509b8f-85e3-458e-952f-8fc326d1e25e",
   "metadata": {},
   "outputs": [
    {
     "name": "stdout",
     "output_type": "stream",
     "text": [
      "<class 'str'>\n",
      "3\n",
      "<class 'int'>\n"
     ]
    }
   ],
   "source": [
    "a = '3'\n",
    "print(type(a))\n",
    "\n",
    "b = int(a)\n",
    "print(b)\n",
    "print(type(b))"
   ]
  },
  {
   "cell_type": "code",
   "execution_count": 139,
   "id": "a7724482-54ff-4f1d-82e7-4f5475be8ab5",
   "metadata": {},
   "outputs": [
    {
     "ename": "ValueError",
     "evalue": "invalid literal for int() with base 10: 'apple'",
     "output_type": "error",
     "traceback": [
      "\u001b[1;31m---------------------------------------------------------------------------\u001b[0m",
      "\u001b[1;31mValueError\u001b[0m                                Traceback (most recent call last)",
      "Cell \u001b[1;32mIn[139], line 2\u001b[0m\n\u001b[0;32m      1\u001b[0m c \u001b[38;5;241m=\u001b[39m \u001b[38;5;124m'\u001b[39m\u001b[38;5;124mapple\u001b[39m\u001b[38;5;124m'\u001b[39m\n\u001b[1;32m----> 2\u001b[0m d \u001b[38;5;241m=\u001b[39m \u001b[38;5;28;43mint\u001b[39;49m\u001b[43m(\u001b[49m\u001b[43mc\u001b[49m\u001b[43m)\u001b[49m\n",
      "\u001b[1;31mValueError\u001b[0m: invalid literal for int() with base 10: 'apple'"
     ]
    }
   ],
   "source": [
    "c = 'apple'\n",
    "d = int(c)"
   ]
  },
  {
   "cell_type": "code",
   "execution_count": 141,
   "id": "9701222b-621a-48f2-a89c-94d05971bc46",
   "metadata": {},
   "outputs": [
    {
     "name": "stdout",
     "output_type": "stream",
     "text": [
      "True\n",
      "False\n",
      "True\n"
     ]
    }
   ],
   "source": [
    "a = 1\n",
    "b = 0\n",
    "c = 123\n",
    "print(bool(a))\n",
    "print(bool(b))\n",
    "print(bool(c))"
   ]
  },
  {
   "cell_type": "code",
   "execution_count": 142,
   "id": "0960b4aa-bfcb-4cd3-b049-2b933ab772af",
   "metadata": {},
   "outputs": [
    {
     "name": "stdout",
     "output_type": "stream",
     "text": [
      "False\n",
      "True\n"
     ]
    }
   ],
   "source": [
    "print(bool([]))\n",
    "print(bool([1,2,3]))"
   ]
  },
  {
   "cell_type": "code",
   "execution_count": null,
   "id": "e6e919fc-b6be-4d42-ad82-c443eefbeaf8",
   "metadata": {},
   "outputs": [],
   "source": []
  }
 ],
 "metadata": {
  "kernelspec": {
   "display_name": "Python 3 (ipykernel)",
   "language": "python",
   "name": "python3"
  },
  "language_info": {
   "codemirror_mode": {
    "name": "ipython",
    "version": 3
   },
   "file_extension": ".py",
   "mimetype": "text/x-python",
   "name": "python",
   "nbconvert_exporter": "python",
   "pygments_lexer": "ipython3",
   "version": "3.13.2"
  }
 },
 "nbformat": 4,
 "nbformat_minor": 5
}
