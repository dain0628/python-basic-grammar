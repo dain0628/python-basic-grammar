{
 "cells": [
  {
   "cell_type": "markdown",
   "id": "394d8ddc-0791-4aab-ae58-6c92344f1a29",
   "metadata": {},
   "source": [
    "### 자료구조\n",
    "> 여러가지 자료구조가 가지고 있는 메소드(함수) 알아보기"
   ]
  },
  {
   "cell_type": "code",
   "execution_count": 3,
   "id": "ddfac173-daef-4586-a3ef-127cee7427d4",
   "metadata": {},
   "outputs": [
    {
     "name": "stdout",
     "output_type": "stream",
     "text": [
      "['__add__', '__class__', '__contains__', '__delattr__', '__dir__', '__doc__', '__eq__', '__format__', '__ge__', '__getattribute__', '__getitem__', '__getnewargs__', '__getstate__', '__gt__', '__hash__', '__init__', '__init_subclass__', '__iter__', '__le__', '__len__', '__lt__', '__mod__', '__mul__', '__ne__', '__new__', '__reduce__', '__reduce_ex__', '__repr__', '__rmod__', '__rmul__', '__setattr__', '__sizeof__', '__str__', '__subclasshook__', 'capitalize', 'casefold', 'center', 'count', 'encode', 'endswith', 'expandtabs', 'find', 'format', 'format_map', 'index', 'isalnum', 'isalpha', 'isascii', 'isdecimal', 'isdigit', 'isidentifier', 'islower', 'isnumeric', 'isprintable', 'isspace', 'istitle', 'isupper', 'join', 'ljust', 'lower', 'lstrip', 'maketrans', 'partition', 'removeprefix', 'removesuffix', 'replace', 'rfind', 'rindex', 'rjust', 'rpartition', 'rsplit', 'rstrip', 'split', 'splitlines', 'startswith', 'strip', 'swapcase', 'title', 'translate', 'upper', 'zfill']\n"
     ]
    }
   ],
   "source": [
    "print(dir('hello'))"
   ]
  },
  {
   "cell_type": "markdown",
   "id": "b2076f67-15ba-4b04-bfd5-28277ba8e89b",
   "metadata": {},
   "source": [
    "### 문자열 메소드"
   ]
  },
  {
   "cell_type": "code",
   "execution_count": 4,
   "id": "9f7a8fdf-6f6a-4b70-8172-391ad9d0c2bc",
   "metadata": {},
   "outputs": [],
   "source": [
    "a = 'hello my name is hong'"
   ]
  },
  {
   "cell_type": "code",
   "execution_count": 5,
   "id": "a06c914b-65d5-4524-841a-3f3ed97753fb",
   "metadata": {},
   "outputs": [
    {
     "name": "stdout",
     "output_type": "stream",
     "text": [
      "hello my name is hong\n"
     ]
    }
   ],
   "source": [
    "print(a)"
   ]
  },
  {
   "cell_type": "code",
   "execution_count": 6,
   "id": "24873418-c9f4-461d-9151-cccedae0bb88",
   "metadata": {},
   "outputs": [
    {
     "ename": "TypeError",
     "evalue": "'str' object does not support item assignment",
     "output_type": "error",
     "traceback": [
      "\u001b[1;31m---------------------------------------------------------------------------\u001b[0m",
      "\u001b[1;31mTypeError\u001b[0m                                 Traceback (most recent call last)",
      "Cell \u001b[1;32mIn[6], line 1\u001b[0m\n\u001b[1;32m----> 1\u001b[0m \u001b[43ma\u001b[49m\u001b[43m \u001b[49m\u001b[43m[\u001b[49m\u001b[38;5;241;43m0\u001b[39;49m\u001b[43m]\u001b[49m \u001b[38;5;241m=\u001b[39m \u001b[38;5;124m'\u001b[39m\u001b[38;5;124mH\u001b[39m\u001b[38;5;124m'\u001b[39m\n",
      "\u001b[1;31mTypeError\u001b[0m: 'str' object does not support item assignment"
     ]
    }
   ],
   "source": [
    "a [0] = 'H'"
   ]
  },
  {
   "cell_type": "code",
   "execution_count": 7,
   "id": "28fe1b0f-93e2-41b3-a765-53466a32daae",
   "metadata": {},
   "outputs": [
    {
     "data": {
      "text/plain": [
       "'Hello my name is hong'"
      ]
     },
     "execution_count": 7,
     "metadata": {},
     "output_type": "execute_result"
    }
   ],
   "source": [
    "a.capitalize()  => # 문장 시작 글자를 대문자로 바꿈"
   ]
  },
  {
   "cell_type": "code",
   "execution_count": 11,
   "id": "565454c1-0843-4fa9-b690-878f71277571",
   "metadata": {},
   "outputs": [
    {
     "name": "stdout",
     "output_type": "stream",
     "text": [
      "hello my name is hong\n"
     ]
    }
   ],
   "source": [
    "print (a)"
   ]
  },
  {
   "cell_type": "code",
   "execution_count": 12,
   "id": "52e82e6c-b4f2-4e22-b03e-8648b086a6a3",
   "metadata": {},
   "outputs": [
    {
     "data": {
      "text/plain": [
       "'Hello My Name Is Hong'"
      ]
     },
     "execution_count": 12,
     "metadata": {},
     "output_type": "execute_result"
    }
   ],
   "source": [
    "a.title() = > # 문장에 첫 단어 시작을 모두 대문자로"
   ]
  },
  {
   "cell_type": "code",
   "execution_count": 13,
   "id": "7048e318-6446-46fa-9a8f-e15ee5d56bc2",
   "metadata": {},
   "outputs": [
    {
     "data": {
      "text/plain": [
       "'hello my name is hong'"
      ]
     },
     "execution_count": 13,
     "metadata": {},
     "output_type": "execute_result"
    }
   ],
   "source": [
    "a.lower() => # 문장 첫 단어를 모두 소문자로"
   ]
  },
  {
   "cell_type": "code",
   "execution_count": 14,
   "id": "6e35f59c-75cf-4e21-bc2b-5ad9463daab6",
   "metadata": {},
   "outputs": [
    {
     "data": {
      "text/plain": [
       "'HELLO MY NAME IS HONG'"
      ]
     },
     "execution_count": 14,
     "metadata": {},
     "output_type": "execute_result"
    }
   ],
   "source": [
    "a.upper() => # 문장 단어 모두 대문자로"
   ]
  },
  {
   "cell_type": "code",
   "execution_count": 17,
   "id": "cfac7711-3abe-43ac-9d1c-ccbff35349c0",
   "metadata": {},
   "outputs": [
    {
     "data": {
      "text/plain": [
       "'my!name!is'"
      ]
     },
     "execution_count": 17,
     "metadata": {},
     "output_type": "execute_result"
    }
   ],
   "source": [
    "my_list = ['my' , 'name' , 'is']\n",
    "'!'.join(my_list) => # ! 기준으로 합침"
   ]
  },
  {
   "cell_type": "code",
   "execution_count": 18,
   "id": "84d625f2-e423-4330-a116-5a55f2b50993",
   "metadata": {},
   "outputs": [
    {
     "data": {
      "text/plain": [
       "'배?고?프?다'"
      ]
     },
     "execution_count": 18,
     "metadata": {},
     "output_type": "execute_result"
    }
   ],
   "source": [
    "'?'.join('배고프다')"
   ]
  },
  {
   "cell_type": "code",
   "execution_count": 27,
   "id": "122bc706-8046-4b6d-bc10-37cdfa7b4694",
   "metadata": {},
   "outputs": [
    {
     "data": {
      "text/plain": [
       "'hello'"
      ]
     },
     "execution_count": 27,
     "metadata": {},
     "output_type": "execute_result"
    }
   ],
   "source": [
    "a = '        hello      \\n'\n",
    "a.strip() #문자의 공백을 없애줌"
   ]
  },
  {
   "cell_type": "code",
   "execution_count": 28,
   "id": "1e69aee8-6abb-4b4d-9d3f-5cb0e5859e29",
   "metadata": {},
   "outputs": [
    {
     "data": {
      "text/plain": [
       "'hello????????'"
      ]
     },
     "execution_count": 28,
     "metadata": {},
     "output_type": "execute_result"
    }
   ],
   "source": [
    "a = '!!!!!!!!!!!hello????????'\n",
    "a.strip('!') # !값을 지움\n",
    "\n",
    "# def strip(char='')"
   ]
  },
  {
   "cell_type": "code",
   "execution_count": 31,
   "id": "3abb357f-8620-416c-94ae-6b15cf5ea6e5",
   "metadata": {},
   "outputs": [
    {
     "data": {
      "text/plain": [
       "'hello--------'"
      ]
     },
     "execution_count": 31,
     "metadata": {},
     "output_type": "execute_result"
    }
   ],
   "source": [
    "a = '--------hello--------'\n",
    "a.lstrip('-') # 왼쪽에 있는 - 만 지워주세요"
   ]
  },
  {
   "cell_type": "code",
   "execution_count": 32,
   "id": "f9cad3b9-a4e9-44e9-a9c4-99a36a920bcd",
   "metadata": {},
   "outputs": [
    {
     "data": {
      "text/plain": [
       "'--------hello'"
      ]
     },
     "execution_count": 32,
     "metadata": {},
     "output_type": "execute_result"
    }
   ],
   "source": [
    "a = '--------hello--------'\n",
    "a.rstrip('-') # 오른쪽에 있는 - 만 지워주세요"
   ]
  },
  {
   "cell_type": "code",
   "execution_count": 33,
   "id": "6a65532c-04cb-4b44-9a7c-b6582ae03701",
   "metadata": {},
   "outputs": [
    {
     "data": {
      "text/plain": [
       "'w!!!oooow'"
      ]
     },
     "execution_count": 33,
     "metadata": {},
     "output_type": "execute_result"
    }
   ],
   "source": [
    "a = 'wooooooow'\n",
    "a.replace('o' , '!', 3)"
   ]
  },
  {
   "cell_type": "code",
   "execution_count": 36,
   "id": "324f169c-57b6-4d9c-afe6-9e727a29ccdf",
   "metadata": {},
   "outputs": [
    {
     "data": {
      "text/plain": [
       "-1"
      ]
     },
     "execution_count": 36,
     "metadata": {},
     "output_type": "execute_result"
    }
   ],
   "source": [
    "a = 'apple'\n",
    "a.find('a') # a 찾아줘\n",
    "a.find('l') # 3\n",
    "a.find('p') #1\n",
    "a.find('z') #-1"
   ]
  },
  {
   "cell_type": "code",
   "execution_count": 35,
   "id": "e8e1e599-062e-4a35-9325-a0ed724e7740",
   "metadata": {},
   "outputs": [
    {
     "ename": "ValueError",
     "evalue": "substring not found",
     "output_type": "error",
     "traceback": [
      "\u001b[1;31m---------------------------------------------------------------------------\u001b[0m",
      "\u001b[1;31mValueError\u001b[0m                                Traceback (most recent call last)",
      "Cell \u001b[1;32mIn[35], line 5\u001b[0m\n\u001b[0;32m      3\u001b[0m a\u001b[38;5;241m.\u001b[39mindex(\u001b[38;5;124m'\u001b[39m\u001b[38;5;124ml\u001b[39m\u001b[38;5;124m'\u001b[39m)\n\u001b[0;32m      4\u001b[0m a\u001b[38;5;241m.\u001b[39mindex(\u001b[38;5;124m'\u001b[39m\u001b[38;5;124mp\u001b[39m\u001b[38;5;124m'\u001b[39m)\n\u001b[1;32m----> 5\u001b[0m \u001b[43ma\u001b[49m\u001b[38;5;241;43m.\u001b[39;49m\u001b[43mindex\u001b[49m\u001b[43m(\u001b[49m\u001b[38;5;124;43m'\u001b[39;49m\u001b[38;5;124;43mz\u001b[39;49m\u001b[38;5;124;43m'\u001b[39;49m\u001b[43m)\u001b[49m\n",
      "\u001b[1;31mValueError\u001b[0m: substring not found"
     ]
    }
   ],
   "source": [
    "a = 'apple'\n",
    "a.index('a')\n",
    "a.index('l')\n",
    "a.index('p')\n",
    "a.index('z')"
   ]
  },
  {
   "cell_type": "code",
   "execution_count": 38,
   "id": "9b2da2c3-bbc0-4355-a225-c9f539d000fd",
   "metadata": {},
   "outputs": [
    {
     "data": {
      "text/plain": [
       "['my', 'name', 'is', 'hong']"
      ]
     },
     "execution_count": 38,
     "metadata": {},
     "output_type": "execute_result"
    }
   ],
   "source": [
    "a = 'my name is hong'\n",
    "a.split()"
   ]
  },
  {
   "cell_type": "code",
   "execution_count": 39,
   "id": "a668117d-d219-45c9-95b3-a90fdbdb1081",
   "metadata": {},
   "outputs": [
    {
     "data": {
      "text/plain": [
       "['my', 'name', 'is?hong']"
      ]
     },
     "execution_count": 39,
     "metadata": {},
     "output_type": "execute_result"
    }
   ],
   "source": [
    "a = 'my!name!is?hong'\n",
    "a.split('!') # ! 기준으로 나눠주세요"
   ]
  },
  {
   "cell_type": "code",
   "execution_count": 40,
   "id": "d3339fce-08b6-458f-bfe9-1ef3061d0d4d",
   "metadata": {},
   "outputs": [
    {
     "data": {
      "text/plain": [
       "5"
      ]
     },
     "execution_count": 40,
     "metadata": {},
     "output_type": "execute_result"
    }
   ],
   "source": [
    "a = 'wooooow'\n",
    "a.count('o')"
   ]
  },
  {
   "cell_type": "markdown",
   "id": "2bf062ef-1771-494c-9028-1eb457cf7be6",
   "metadata": {},
   "source": [
    "### 리스트 메소드"
   ]
  },
  {
   "cell_type": "code",
   "execution_count": 57,
   "id": "83bb9bb9-00d7-47e4-be38-4196d06de752",
   "metadata": {},
   "outputs": [],
   "source": [
    "numbers = [2, 6, 1, 4, 8, 3, 2, 8]"
   ]
  },
  {
   "cell_type": "code",
   "execution_count": 58,
   "id": "088d44a1-1aa6-464e-afc1-a3f1e679775a",
   "metadata": {},
   "outputs": [
    {
     "name": "stdout",
     "output_type": "stream",
     "text": [
      "[2, 6, 1, 4, 8, 3, 2, 8, 10]\n"
     ]
    }
   ],
   "source": [
    "numbers.append(10) # => 리스트의 맨 끝에 값을 추가하는 함수\n",
    "print(numbers)"
   ]
  },
  {
   "cell_type": "code",
   "execution_count": 59,
   "id": "40596141-37ae-436e-9b9c-e087cfa1383f",
   "metadata": {},
   "outputs": [],
   "source": [
    "a = [99, 100]"
   ]
  },
  {
   "cell_type": "code",
   "execution_count": 60,
   "id": "c9ce8587-a212-48c6-b836-f6f42e98788e",
   "metadata": {},
   "outputs": [
    {
     "name": "stdout",
     "output_type": "stream",
     "text": [
      "[2, 6, 1, 4, 8, 3, 2, 8, 10, 99, 100]\n"
     ]
    }
   ],
   "source": [
    "numbers.extend(a) # => numbers + a\n",
    "print(numbers)"
   ]
  },
  {
   "cell_type": "code",
   "execution_count": 61,
   "id": "13b01ebd-6901-4c3d-a51d-488237a62378",
   "metadata": {},
   "outputs": [
    {
     "name": "stdout",
     "output_type": "stream",
     "text": [
      "[2, 6, 1, 5, 4, 8, 3, 2, 8, 10, 99, 100]\n"
     ]
    }
   ],
   "source": [
    "numbers.insert(3, 5) # => 위치를 지정했을 때만 사용 가능\n",
    "print(numbers)"
   ]
  },
  {
   "cell_type": "code",
   "execution_count": 62,
   "id": "080e78dc-7bc1-44de-9cf1-f17187f8f017",
   "metadata": {},
   "outputs": [
    {
     "name": "stdout",
     "output_type": "stream",
     "text": [
      "[2, 6, 1, 5, 4, 3, 2, 8, 10, 99, 100]\n"
     ]
    }
   ],
   "source": [
    "# 첫번째 x 를 찾아서 제거, 없으면 오류\n",
    "numbers.remove(8)\n",
    "print(numbers)"
   ]
  },
  {
   "cell_type": "code",
   "execution_count": 63,
   "id": "c061a0b3-617e-49ec-97d9-85bb2fee8382",
   "metadata": {},
   "outputs": [
    {
     "name": "stdout",
     "output_type": "stream",
     "text": [
      "[2, 6, 1, 5, 4, 3, 2, 8, 10, 99]\n"
     ]
    }
   ],
   "source": [
    "numbers.pop() # => 리스트 마지막에 있는 값 제거\n",
    "print(numbers)"
   ]
  },
  {
   "cell_type": "code",
   "execution_count": 64,
   "id": "a835ef81-fe4a-4613-b63b-2c54364ab546",
   "metadata": {},
   "outputs": [
    {
     "name": "stdout",
     "output_type": "stream",
     "text": [
      "[6, 1, 5, 4, 3, 2, 8, 10, 99]\n"
     ]
    }
   ],
   "source": [
    "numbers.pop(0) # => 0을 넣으면 맨 앞에 있는 값 제거\n",
    "print(numbers)"
   ]
  },
  {
   "cell_type": "code",
   "execution_count": 65,
   "id": "833df18c-3397-4f48-b943-0021671118f1",
   "metadata": {},
   "outputs": [
    {
     "name": "stdout",
     "output_type": "stream",
     "text": [
      "[1, 2, 3, 4, 5, 6, 8, 10, 99]\n"
     ]
    }
   ],
   "source": [
    "numbers.sort() # => 리스트에 있는 수들을 오름차순으로 정렬\n",
    "print(numbers)"
   ]
  },
  {
   "cell_type": "code",
   "execution_count": 68,
   "id": "44450e03-70d4-4d54-aca0-4222f94b428e",
   "metadata": {},
   "outputs": [
    {
     "name": "stdout",
     "output_type": "stream",
     "text": [
      "[99, 10, 8, 6, 5, 4, 3, 2, 1]\n"
     ]
    }
   ],
   "source": [
    "numbers.sort(reverse=True) # => 내림차순으로 정렬\n",
    "print(numbers)"
   ]
  },
  {
   "cell_type": "code",
   "execution_count": 71,
   "id": "a5d37b05-6cb9-45b5-b379-928df71a46ac",
   "metadata": {},
   "outputs": [
    {
     "name": "stdout",
     "output_type": "stream",
     "text": [
      "[1, 2, 3, 5, 7, 8]\n",
      "[5, 3, 2, 7, 8, 1]\n"
     ]
    }
   ],
   "source": [
    "a =[5, 3, 2, 7, 8, 1]\n",
    "print(sorted (a))\n",
    "print(a)\n",
    "\n",
    "#sort는 원본을 바꾸고 sorted는 원본은 안 바꾸고 값을 출력"
   ]
  },
  {
   "cell_type": "code",
   "execution_count": 73,
   "id": "936c7409-0465-44c9-8aad-6974423c541c",
   "metadata": {},
   "outputs": [
    {
     "name": "stdout",
     "output_type": "stream",
     "text": [
      "['a', 'b', 'e', 'o', 'z']\n"
     ]
    }
   ],
   "source": [
    "my_list = ['a', 'e', 'o', 'b', 'z']\n",
    "my_list.sort()\n",
    "print(my_list)"
   ]
  },
  {
   "cell_type": "code",
   "execution_count": 77,
   "id": "8478895c-85c5-4419-b41c-516eac52851b",
   "metadata": {},
   "outputs": [
    {
     "name": "stdout",
     "output_type": "stream",
     "text": [
      "[99, 10, 8, 6, 5, 4, 3, 2, 1]\n",
      "[1, 2, 3, 4, 5, 6, 8, 10, 99]\n"
     ]
    }
   ],
   "source": [
    "print(numbers)\n",
    "numbers.reverse()\n",
    "print(numbers)"
   ]
  },
  {
   "cell_type": "code",
   "execution_count": 78,
   "id": "dbae3fa5-1d4f-4543-9b8a-9eae719d746d",
   "metadata": {},
   "outputs": [
    {
     "data": {
      "text/plain": [
       "1"
      ]
     },
     "execution_count": 78,
     "metadata": {},
     "output_type": "execute_result"
    }
   ],
   "source": [
    "numbers.count(10) # => 똑같은 요소가 몇 개가 있는지"
   ]
  },
  {
   "cell_type": "markdown",
   "id": "c95f0cf6-eb30-4061-991c-9ac17f243b97",
   "metadata": {},
   "source": [
    "### list copy"
   ]
  },
  {
   "cell_type": "code",
   "execution_count": 79,
   "id": "d3d1edea-0815-4741-9024-a07937c6f549",
   "metadata": {},
   "outputs": [],
   "source": [
    "origin_list = [1, 2, 3]\n",
    "copy_list = origin_list"
   ]
  },
  {
   "cell_type": "code",
   "execution_count": 81,
   "id": "35788a96-9e52-48ca-b039-12d4e60390f9",
   "metadata": {},
   "outputs": [
    {
     "name": "stdout",
     "output_type": "stream",
     "text": [
      "[1, 2, 3]\n",
      "[1, 2, 3]\n"
     ]
    }
   ],
   "source": [
    "print(origin_list)\n",
    "print(copy_list)"
   ]
  },
  {
   "cell_type": "code",
   "execution_count": 82,
   "id": "233fb074-4d6e-4a80-a1af-c42ed41ca744",
   "metadata": {},
   "outputs": [
    {
     "name": "stdout",
     "output_type": "stream",
     "text": [
      "[100, 2, 3]\n",
      "[100, 2, 3]\n"
     ]
    }
   ],
   "source": [
    "copy_list[0] = 100\n",
    "print(origin_list)\n",
    "print(copy_list)"
   ]
  },
  {
   "cell_type": "code",
   "execution_count": 83,
   "id": "e7c98a06-e02f-41be-8f48-389e44d4c941",
   "metadata": {},
   "outputs": [
    {
     "name": "stdout",
     "output_type": "stream",
     "text": [
      "[1, 2, 3]\n",
      "[100, 2, 3]\n"
     ]
    }
   ],
   "source": [
    "origin_list = [1, 2, 3]\n",
    "copy_list = origin_list [:] # => slicing 을 해주세요. 원본에 있는 리스트를 처음부터 슬라이싱 해서 넣어주세요 \n",
    "\n",
    "copy_list[0] = 100\n",
    "\n",
    "print(origin_list)\n",
    "print(copy_list)"
   ]
  },
  {
   "cell_type": "code",
   "execution_count": 88,
   "id": "291eaacd-cf46-4881-a7c1-f012ca029401",
   "metadata": {},
   "outputs": [
    {
     "name": "stdout",
     "output_type": "stream",
     "text": [
      "[1, 2, [-10, 11]]\n",
      "[100, 2, [-10, 11]]\n"
     ]
    }
   ],
   "source": [
    "o_l = [1, 2, [10, 11]]\n",
    "c_l = o_l [:]\n",
    "\n",
    "c_l [0] = 100\n",
    "c_l [2][0] = -10\n",
    "\n",
    "print(o_l)\n",
    "print(c_l)"
   ]
  },
  {
   "cell_type": "code",
   "execution_count": 96,
   "id": "b1ce3d94-d621-4113-9bc4-7239a1a20f00",
   "metadata": {},
   "outputs": [
    {
     "name": "stdout",
     "output_type": "stream",
     "text": [
      "[1, 2, [10, 11]]\n",
      "[100, 2, [10, -11]]\n"
     ]
    }
   ],
   "source": [
    "import copy\n",
    "o_l = [1,2,[10,11]]\n",
    "c_l = copy.deepcopy(o_l)\n",
    "\n",
    "c_l[0] = 100\n",
    "c_l[2][1] = -11\n",
    "\n",
    "print(o_l)\n",
    "print(c_l)"
   ]
  },
  {
   "cell_type": "markdown",
   "id": "9a30bd74-9e7c-45f4-be76-837f889e00f3",
   "metadata": {},
   "source": [
    "### list comprehension"
   ]
  },
  {
   "cell_type": "code",
   "execution_count": 97,
   "id": "d1252547-755a-457e-9bf4-5996d4c5dbee",
   "metadata": {},
   "outputs": [
    {
     "name": "stdout",
     "output_type": "stream",
     "text": [
      "[1, 2, 3, 4, 5, 6, 7, 8, 9, 10]\n"
     ]
    }
   ],
   "source": [
    "numbers = list(range(1,11))\n",
    "print(numbers)"
   ]
  },
  {
   "cell_type": "code",
   "execution_count": 102,
   "id": "259e17ac-fae9-40d3-a331-d7b78df27933",
   "metadata": {},
   "outputs": [
    {
     "name": "stdout",
     "output_type": "stream",
     "text": [
      "[1]\n",
      "[1, 8]\n",
      "[1, 8, 27]\n",
      "[1, 8, 27, 64]\n",
      "[1, 8, 27, 64, 125]\n",
      "[1, 8, 27, 64, 125, 216]\n",
      "[1, 8, 27, 64, 125, 216, 343]\n",
      "[1, 8, 27, 64, 125, 216, 343, 512]\n",
      "[1, 8, 27, 64, 125, 216, 343, 512, 729]\n",
      "[1, 8, 27, 64, 125, 216, 343, 512, 729, 1000]\n"
     ]
    }
   ],
   "source": [
    "result = []\n",
    "\n",
    "for number in numbers :\n",
    "    temp = number ** 3\n",
    "    result.append(temp)\n",
    "    print(result)"
   ]
  },
  {
   "cell_type": "code",
   "execution_count": 103,
   "id": "d9b51027-07a1-4d4d-82d5-17f159703e8a",
   "metadata": {},
   "outputs": [
    {
     "name": "stdout",
     "output_type": "stream",
     "text": [
      "[1, 8, 27, 64, 125, 216, 343, 512, 729, 1000]\n"
     ]
    }
   ],
   "source": [
    "result = [number **3 for number in numbers]\n",
    " #result = [number1 **3, number2***3, number3, **3]\n",
    "print(result)"
   ]
  },
  {
   "cell_type": "code",
   "execution_count": 105,
   "id": "3fff7070-833f-4270-84f8-bbcb598a8c29",
   "metadata": {},
   "outputs": [
    {
     "name": "stdout",
     "output_type": "stream",
     "text": [
      "[2, 4, 6, 8, 10, 12, 14, 16, 18, 20, 22, 24, 26, 28, 30]\n"
     ]
    }
   ],
   "source": [
    "# 짝수만고르기\n",
    "\n",
    "numbers = list(range(1,31))\n",
    "result = []\n",
    "\n",
    "for number in numbers:\n",
    "    if number %2 == 0:\n",
    "        result.append(number)\n",
    "\n",
    "print (result)"
   ]
  },
  {
   "cell_type": "code",
   "execution_count": 110,
   "id": "8b35e3d9-838d-465c-85d8-04b8b6ac56ee",
   "metadata": {},
   "outputs": [
    {
     "name": "stdout",
     "output_type": "stream",
     "text": [
      "[4, 8, 12, 16, 20, 24, 28, 32, 36, 40, 44, 48, 52, 56, 60]\n"
     ]
    }
   ],
   "source": [
    "numbers = list(range(1,31))\n",
    "result = [number *2 for number in numbers if number %2 == 0 ]\n",
    "print(result)"
   ]
  },
  {
   "cell_type": "code",
   "execution_count": 111,
   "id": "f1596099-9914-40d5-b06c-6d5f84a283cb",
   "metadata": {},
   "outputs": [],
   "source": [
    "# 연습! 모음제거\n",
    "words = 'my name is hong'\n",
    "\n",
    "# => my nm s hng"
   ]
  },
  {
   "cell_type": "code",
   "execution_count": 114,
   "id": "8f0670da-24eb-4f11-bde5-fcfa62f38d21",
   "metadata": {},
   "outputs": [],
   "source": [
    "# 1. for / if"
   ]
  },
  {
   "cell_type": "code",
   "execution_count": 136,
   "id": "239a4123-5d19-4aa7-9614-50bf962a17da",
   "metadata": {},
   "outputs": [
    {
     "ename": "SyntaxError",
     "evalue": "expected ':' (769472444.py, line 5)",
     "output_type": "error",
     "traceback": [
      "\u001b[1;36m  Cell \u001b[1;32mIn[136], line 5\u001b[1;36m\u001b[0m\n\u001b[1;33m    if words == [vowel]\u001b[0m\n\u001b[1;37m                       ^\u001b[0m\n\u001b[1;31mSyntaxError\u001b[0m\u001b[1;31m:\u001b[0m expected ':'\n"
     ]
    }
   ],
   "source": [
    "words = 'my name is hong'\n",
    "vowel = 'a' ,'e', 'i', 'o', 'u'\n",
    "\n",
    "for word in words:\n",
    "    if words == [vowel]\n",
    "    print(words.remove(vowels))"
   ]
  },
  {
   "cell_type": "code",
   "execution_count": 147,
   "id": "20d5e9b7-29fa-48c2-b35c-db6f5073b9eb",
   "metadata": {},
   "outputs": [
    {
     "name": "stdout",
     "output_type": "stream",
     "text": [
      "['m', 'y', ' ', 'n', 'm', ' ', 's', ' ', 'h', 'n', 'g']\n",
      "my nm s hng\n"
     ]
    }
   ],
   "source": [
    "words = 'my name is hong'\n",
    "vowels = ['a' ,'e', 'i', 'o', 'u']\n",
    "result = []\n",
    "# 모음인 경우\n",
    "for char in words :\n",
    "    if char in vowels:\n",
    "        pass\n",
    "   #자음인 경우\n",
    "    else:\n",
    "        result.append(char)\n",
    "\n",
    "print(result)\n",
    "print(''.join(result))"
   ]
  },
  {
   "cell_type": "code",
   "execution_count": 148,
   "id": "7be99632-9946-4080-8371-5148924f88a2",
   "metadata": {},
   "outputs": [
    {
     "name": "stdout",
     "output_type": "stream",
     "text": [
      "['m', 'y', ' ', 'n', 'm', ' ', 's', ' ', 'h', 'n', 'g']\n",
      "my nm s hng\n"
     ]
    }
   ],
   "source": [
    "words = 'my name is hong'\n",
    "vowels = ['a' ,'e', 'i', 'o', 'u']\n",
    "result = []\n",
    "for char in words :\n",
    "    #모음이 아닌 경우\n",
    "    if char not in vowels:\n",
    "        result.append(char)\n",
    "\n",
    "print(result)\n",
    "print(''.join(result))"
   ]
  },
  {
   "cell_type": "code",
   "execution_count": 151,
   "id": "9fcacdf9-6e36-4554-84ce-fdf69a0bc56e",
   "metadata": {},
   "outputs": [
    {
     "name": "stdout",
     "output_type": "stream",
     "text": [
      "['m', 'y', ' ', 'n', 'm', ' ', 's', ' ', 'h', 'n', 'g']\n",
      "my nm s hng\n"
     ]
    }
   ],
   "source": [
    "# 2. List comprehension \n",
    "vowels = 'aeiou'\n",
    "result = [char for char in words if char not in vowels]\n",
    "print(result)\n",
    "print(''.join(result))"
   ]
  },
  {
   "cell_type": "code",
   "execution_count": 152,
   "id": "b8ed86ab-0189-4400-b516-aac5019a34fc",
   "metadata": {},
   "outputs": [
    {
     "data": {
      "text/plain": [
       "'my nm s hng'"
      ]
     },
     "execution_count": 152,
     "metadata": {},
     "output_type": "execute_result"
    }
   ],
   "source": [
    "''.join([char for char in words if char not in 'aeiou'])"
   ]
  },
  {
   "cell_type": "code",
   "execution_count": 154,
   "id": "bbb3474b-fa29-454a-9845-f326e53c0359",
   "metadata": {},
   "outputs": [
    {
     "name": "stdout",
     "output_type": "stream",
     "text": [
      "my nm s hng\n"
     ]
    }
   ],
   "source": [
    "#3 replace 메소드\n",
    "vowels = 'aeiou'\n",
    "\n",
    "for char in vowels:\n",
    "    words = words.replace(char, '')\n",
    "\n",
    "print(words)"
   ]
  }
 ],
 "metadata": {
  "kernelspec": {
   "display_name": "Python 3 (ipykernel)",
   "language": "python",
   "name": "python3"
  },
  "language_info": {
   "codemirror_mode": {
    "name": "ipython",
    "version": 3
   },
   "file_extension": ".py",
   "mimetype": "text/x-python",
   "name": "python",
   "nbconvert_exporter": "python",
   "pygments_lexer": "ipython3",
   "version": "3.13.2"
  }
 },
 "nbformat": 4,
 "nbformat_minor": 5
}
