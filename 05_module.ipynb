{
 "cells": [
  {
   "cell_type": "markdown",
   "id": "0198b37a-6ef2-4623-8029-eea95b020ade",
   "metadata": {},
   "source": [
    "# 모듈"
   ]
  },
  {
   "cell_type": "code",
   "execution_count": null,
   "id": "0360a11a-e48b-4315-939a-27ac87592da5",
   "metadata": {},
   "outputs": [],
   "source": [
    "import fact"
   ]
  },
  {
   "cell_type": "code",
   "execution_count": null,
   "id": "4d629d2d-9776-4bfa-bb08-ee31e95f209f",
   "metadata": {},
   "outputs": [],
   "source": [
    "print(fact)"
   ]
  },
  {
   "cell_type": "code",
   "execution_count": null,
   "id": "9721fd6e-eca2-4ff1-9c79-063bdd3692cf",
   "metadata": {},
   "outputs": [],
   "source": [
    "fact.factorial(5)"
   ]
  },
  {
   "cell_type": "code",
   "execution_count": null,
   "id": "6883d0fd-ef90-46ec-ae6e-19532267d52f",
   "metadata": {},
   "outputs": [],
   "source": [
    "fact.my_max(2, 3)"
   ]
  },
  {
   "cell_type": "markdown",
   "id": "1f58592d-3d3f-4a0e-bb61-de036531de21",
   "metadata": {},
   "source": [
    "# 패키지\n",
    "\n",
    "```\n",
    "myPackage/\n",
    "    __init__.py\n",
    "    math/\n",
    "        __init__.py\n",
    "```\n",
    "- 패키지 안에 `__init__.py` 파일이 존재해야 패키지로 인식"
   ]
  },
  {
   "cell_type": "code",
   "execution_count": null,
   "id": "fd3c0fe3-0935-4443-bb00-f992f05da3ca",
   "metadata": {},
   "outputs": [],
   "source": [
    "import myPackage"
   ]
  },
  {
   "cell_type": "code",
   "execution_count": null,
   "id": "cddd375a-7af5-478c-9d16-b5c2860c76a5",
   "metadata": {},
   "outputs": [],
   "source": [
    "print(myPackage)"
   ]
  },
  {
   "cell_type": "code",
   "execution_count": null,
   "id": "e8003244-512d-40d5-8c4b-32b881201d9e",
   "metadata": {},
   "outputs": [],
   "source": [
    "myPackage.math.fomula.my_max(2, 3)"
   ]
  },
  {
   "cell_type": "code",
   "execution_count": null,
   "id": "1310209e-906f-4c6e-be9c-b056430a5045",
   "metadata": {},
   "outputs": [],
   "source": [
    "from myPackage.math.fomula import my_max"
   ]
  },
  {
   "cell_type": "code",
   "execution_count": null,
   "id": "29524165-b3ce-443c-8ec5-3c0a04ff490c",
   "metadata": {},
   "outputs": [],
   "source": [
    "my_max(2, 3)"
   ]
  },
  {
   "cell_type": "code",
   "execution_count": null,
   "id": "e2601e11-fbe5-46ba-83b0-547e0a55225d",
   "metadata": {},
   "outputs": [],
   "source": [
    "from myPackage.math import fomula\n",
    "fomula.my_max(2, 3)"
   ]
  },
  {
   "cell_type": "code",
   "execution_count": null,
   "id": "9ae39cae-f8bb-4d89-9431-55381dd7a9d1",
   "metadata": {},
   "outputs": [],
   "source": [
    "from myPackage.math.fomula import *\n",
    "print(pi)"
   ]
  },
  {
   "cell_type": "code",
   "execution_count": null,
   "id": "80d76758-ffda-4649-a5be-817e990682e0",
   "metadata": {},
   "outputs": [],
   "source": [
    "fomula = 1234\n",
    "from myPackage.math import fomula as f\n",
    "print(fomula)\n",
    "print(f)"
   ]
  },
  {
   "cell_type": "markdown",
   "id": "8a4e7a5d-0c3d-419e-88dc-c2e0e4baf8ac",
   "metadata": {},
   "source": [
    "## 파이썬 내장 패키지\n",
    "### math"
   ]
  },
  {
   "cell_type": "code",
   "execution_count": 2,
   "id": "390a78de-53e3-4368-929b-1fe8285ea36d",
   "metadata": {},
   "outputs": [],
   "source": [
    "import math"
   ]
  },
  {
   "cell_type": "code",
   "execution_count": 3,
   "id": "aee1a06a-6c48-463f-99af-87391f71acaf",
   "metadata": {},
   "outputs": [
    {
     "data": {
      "text/plain": [
       "3.141592653589793"
      ]
     },
     "execution_count": 3,
     "metadata": {},
     "output_type": "execute_result"
    }
   ],
   "source": [
    "math.pi"
   ]
  },
  {
   "cell_type": "code",
   "execution_count": 4,
   "id": "1118bc65-54a5-4212-8921-1126f5837f13",
   "metadata": {},
   "outputs": [
    {
     "data": {
      "text/plain": [
       "2.718281828459045"
      ]
     },
     "execution_count": 4,
     "metadata": {},
     "output_type": "execute_result"
    }
   ],
   "source": [
    "math.e"
   ]
  },
  {
   "cell_type": "code",
   "execution_count": 5,
   "id": "8c0117ad-ee41-4452-8dea-a8b706acc008",
   "metadata": {},
   "outputs": [
    {
     "data": {
      "text/plain": [
       "3"
      ]
     },
     "execution_count": 5,
     "metadata": {},
     "output_type": "execute_result"
    }
   ],
   "source": [
    "math.ceil(math.e)"
   ]
  },
  {
   "cell_type": "code",
   "execution_count": 6,
   "id": "4bef49ef-53e3-464d-9376-b4b38d985691",
   "metadata": {},
   "outputs": [
    {
     "data": {
      "text/plain": [
       "2"
      ]
     },
     "execution_count": 6,
     "metadata": {},
     "output_type": "execute_result"
    }
   ],
   "source": [
    "math.floor(math.e)"
   ]
  },
  {
   "cell_type": "code",
   "execution_count": 7,
   "id": "24225212-f80a-4084-891b-4f7db525d710",
   "metadata": {},
   "outputs": [
    {
     "data": {
      "text/plain": [
       "3.0"
      ]
     },
     "execution_count": 7,
     "metadata": {},
     "output_type": "execute_result"
    }
   ],
   "source": [
    "math.sqrt(9)"
   ]
  },
  {
   "cell_type": "code",
   "execution_count": 8,
   "id": "f380d06e-e04a-4df4-b1b2-36d1d439a71a",
   "metadata": {},
   "outputs": [
    {
     "data": {
      "text/plain": [
       "3628800"
      ]
     },
     "execution_count": 8,
     "metadata": {},
     "output_type": "execute_result"
    }
   ],
   "source": [
    "math.factorial(10)"
   ]
  },
  {
   "cell_type": "code",
   "execution_count": 9,
   "id": "f84b70af-efee-43c8-b7d9-e19157209c2b",
   "metadata": {},
   "outputs": [],
   "source": [
    "from math import sqrt, factorial"
   ]
  },
  {
   "cell_type": "code",
   "execution_count": 10,
   "id": "13fd0f2e-3267-4618-baf1-5bab46e6627f",
   "metadata": {},
   "outputs": [
    {
     "data": {
      "text/plain": [
       "4.0"
      ]
     },
     "execution_count": 10,
     "metadata": {},
     "output_type": "execute_result"
    }
   ],
   "source": [
    "sqrt(16)"
   ]
  },
  {
   "cell_type": "code",
   "execution_count": 11,
   "id": "8666aed8-95f7-415f-9e30-67248d12a5ec",
   "metadata": {},
   "outputs": [
    {
     "data": {
      "text/plain": [
       "120"
      ]
     },
     "execution_count": 11,
     "metadata": {},
     "output_type": "execute_result"
    }
   ],
   "source": [
    "factorial(5)"
   ]
  },
  {
   "cell_type": "markdown",
   "id": "5671413a-3c9a-4970-b9e3-8648384ce67c",
   "metadata": {},
   "source": [
    "### random"
   ]
  },
  {
   "cell_type": "code",
   "execution_count": null,
   "id": "cccf8331-e387-4430-9147-247a94d1a1d3",
   "metadata": {},
   "outputs": [],
   "source": [
    "import random"
   ]
  },
  {
   "cell_type": "code",
   "execution_count": null,
   "id": "798f306e-df65-4f31-af37-6e58134ff6db",
   "metadata": {},
   "outputs": [],
   "source": [
    "random.random()"
   ]
  },
  {
   "cell_type": "code",
   "execution_count": null,
   "id": "1e963bc2-b56a-4650-9e2f-15dbd48f10e4",
   "metadata": {},
   "outputs": [],
   "source": [
    "random.randint(1, 10)"
   ]
  },
  {
   "cell_type": "code",
   "execution_count": null,
   "id": "d08597ee-3b29-441a-b6fc-37a3c5c64104",
   "metadata": {},
   "outputs": [],
   "source": [
    "random.seed(234)\n",
    "random.random()"
   ]
  },
  {
   "cell_type": "code",
   "execution_count": null,
   "id": "8350ac4f-9ede-436b-b6b0-cc6d649088f1",
   "metadata": {},
   "outputs": [],
   "source": [
    "numbers = [1, 2, 3, 4, 5]"
   ]
  },
  {
   "cell_type": "code",
   "execution_count": null,
   "id": "f72f6a87-cd07-477f-ada9-8c95c365d590",
   "metadata": {},
   "outputs": [],
   "source": [
    "random.shuffle(numbers)\n",
    "print(numbers)"
   ]
  },
  {
   "cell_type": "code",
   "execution_count": null,
   "id": "ff7a2feb-1734-465a-b563-1a15795b67df",
   "metadata": {},
   "outputs": [],
   "source": [
    "print(random.choice(numbers))\n",
    "print(random.choice(numbers))"
   ]
  },
  {
   "cell_type": "code",
   "execution_count": null,
   "id": "52dba7a3-88db-4946-a786-73d282eeedc2",
   "metadata": {},
   "outputs": [],
   "source": [
    "random.sample(numbers, 2)"
   ]
  },
  {
   "cell_type": "markdown",
   "id": "525b56a2-5bce-4ca4-a74b-8a34f3982c5e",
   "metadata": {},
   "source": [
    "### datetime"
   ]
  },
  {
   "cell_type": "code",
   "execution_count": null,
   "id": "ee0d2aa4-35c4-4db9-80a4-18843d35014f",
   "metadata": {},
   "outputs": [],
   "source": [
    "from datetime import datetime"
   ]
  },
  {
   "cell_type": "code",
   "execution_count": null,
   "id": "f4d7199d-3712-4dc3-a520-d31d39ae5804",
   "metadata": {},
   "outputs": [],
   "source": [
    "datetime.now()"
   ]
  },
  {
   "cell_type": "code",
   "execution_count": null,
   "id": "632762d5-89fb-4dd5-8a8f-caeac052e18d",
   "metadata": {},
   "outputs": [],
   "source": [
    "datetime.today()"
   ]
  },
  {
   "cell_type": "code",
   "execution_count": null,
   "id": "71645f24-3a4a-4627-9a32-3f6454ef51ea",
   "metadata": {},
   "outputs": [],
   "source": [
    "datetime.utcnow()\n",
    "# datetime.now(datetime.UTC)"
   ]
  },
  {
   "cell_type": "code",
   "execution_count": null,
   "id": "2dff2c5a-6984-4f16-8ce7-da12dc648b85",
   "metadata": {},
   "outputs": [],
   "source": [
    "now = datetime.now()"
   ]
  },
  {
   "cell_type": "code",
   "execution_count": null,
   "id": "faedada1-672b-4419-998c-5544d23869c3",
   "metadata": {},
   "outputs": [],
   "source": [
    "now.year"
   ]
  },
  {
   "cell_type": "code",
   "execution_count": null,
   "id": "4c84e281-ed6d-43a0-a58a-f49d715113c8",
   "metadata": {},
   "outputs": [],
   "source": [
    "now.month"
   ]
  },
  {
   "cell_type": "code",
   "execution_count": null,
   "id": "8df4bd85-ec5a-4dc5-8d52-05cda6383389",
   "metadata": {},
   "outputs": [],
   "source": [
    "now.day"
   ]
  },
  {
   "cell_type": "code",
   "execution_count": null,
   "id": "182cbe1c-501d-4976-9d2d-95ba2e34ea9b",
   "metadata": {},
   "outputs": [],
   "source": [
    "now.weekday()"
   ]
  },
  {
   "cell_type": "code",
   "execution_count": null,
   "id": "ff322ba8-d114-454c-95aa-f16f10cefb9d",
   "metadata": {},
   "outputs": [],
   "source": [
    "print(now)"
   ]
  },
  {
   "cell_type": "code",
   "execution_count": null,
   "id": "8fb10d1d-cfcb-485b-97af-cb00052e9cb0",
   "metadata": {},
   "outputs": [],
   "source": [
    "now.strftime('%y년 %b월 %d일')"
   ]
  },
  {
   "cell_type": "code",
   "execution_count": null,
   "id": "df7aa1f1-8247-44d0-b4d2-e8f230040642",
   "metadata": {},
   "outputs": [],
   "source": [
    "x_mas = datetime(2025, 12, 25)\n",
    "print(x_mas)"
   ]
  },
  {
   "cell_type": "code",
   "execution_count": null,
   "id": "e193ee37-06c5-41b5-9edf-d0ac7c963abd",
   "metadata": {},
   "outputs": [],
   "source": [
    "from datetime import timedelta"
   ]
  },
  {
   "cell_type": "code",
   "execution_count": null,
   "id": "1b963d69-e514-49d6-98b6-6e9f6954bb76",
   "metadata": {},
   "outputs": [],
   "source": [
    "future = timedelta(days=-100)\n",
    "print(x_mas + future)"
   ]
  },
  {
   "cell_type": "code",
   "execution_count": null,
   "id": "03c9f70f-06c8-4c92-9cc7-e452db90f758",
   "metadata": {},
   "outputs": [],
   "source": [
    "x_mas - now"
   ]
  },
  {
   "cell_type": "markdown",
   "id": "f7583a1f-7583-4008-8e45-c74fbed900d3",
   "metadata": {},
   "source": [
    "## 외부 라이브러리"
   ]
  },
  {
   "cell_type": "markdown",
   "id": "ba8bf9a0-ecb6-4fda-b7d5-2019c22ddece",
   "metadata": {},
   "source": [
    "### requests"
   ]
  },
  {
   "cell_type": "code",
   "execution_count": 12,
   "id": "1903cf15-fb27-4779-adf8-16917ff5a9ac",
   "metadata": {},
   "outputs": [],
   "source": [
    "import requests"
   ]
  },
  {
   "cell_type": "code",
   "execution_count": 13,
   "id": "8dfb4874-3840-4fb6-98d1-0ea6599700e4",
   "metadata": {},
   "outputs": [],
   "source": [
    "r = requests.get('https://api.github.com/events')"
   ]
  },
  {
   "cell_type": "code",
   "execution_count": 14,
   "id": "74463c07-e858-48a6-9c23-d30ed4b66f96",
   "metadata": {
    "collapsed": true,
    "jupyter": {
     "outputs_hidden": true
    },
    "scrolled": true
   },
   "outputs": [
    {
     "name": "stdout",
     "output_type": "stream",
     "text": [
      "[{\"id\":\"46800357195\",\"type\":\"PushEvent\",\"actor\":{\"id\":41898282,\"login\":\"github-actions[bot]\",\"display_login\":\"github-actions\",\"gravatar_id\":\"\",\"url\":\"https://api.github.com/users/github-actions[bot]\",\"avatar_url\":\"https://avatars.githubusercontent.com/u/41898282?\"},\"repo\":{\"id\":638917083,\"name\":\"gigizao/gigizao\",\"url\":\"https://api.github.com/repos/gigizao/gigizao\"},\"payload\":{\"repository_id\":638917083,\"push_id\":22775599806,\"size\":1,\"distinct_size\":1,\"ref\":\"refs/heads/output\",\"head\":\"235a74f0009063b9e160ecfe429b94b097590c24\",\"before\":\"53fb0f6144e81fa7b6396dcfce9378f0b13381bd\",\"commits\":[{\"sha\":\"235a74f0009063b9e160ecfe429b94b097590c24\",\"author\":{\"email\":\"41898282+github-actions[bot]@users.noreply.github.com\",\"name\":\"github-actions[bot]\"},\"message\":\"Deploy to GitHub pages\",\"distinct\":true,\"url\":\"https://api.github.com/repos/gigizao/gigizao/commits/235a74f0009063b9e160ecfe429b94b097590c24\"}]},\"public\":true,\"created_at\":\"2025-02-21T01:18:02Z\"},{\"id\":\"46800357207\",\"type\":\"GollumEvent\",\"actor\":{\"id\":171905696,\"login\":\"git0331-lgtm\",\"display_login\":\"git0331-lgtm\",\"gravatar_id\":\"\",\"url\":\"https://api.github.com/users/git0331-lgtm\",\"avatar_url\":\"https://avatars.githubusercontent.com/u/171905696?\"},\"repo\":{\"id\":811250122,\"name\":\"git0331-lgtm/Knowledge\",\"url\":\"https://api.github.com/repos/git0331-lgtm/Knowledge\"},\"payload\":{\"pages\":[{\"page_name\":\"_Sidebar\",\"title\":\"_Sidebar\",\"summary\":null,\"action\":\"edited\",\"sha\":\"a2ffaef2f88bb08bf15230397fe3d4bbcec9333c\",\"html_url\":\"https://github.com/git0331-lgtm/Knowledge/wiki/_Sidebar\"}]},\"public\":true,\"created_at\":\"2025-02-21T01:18:02Z\"},{\"id\":\"46800357179\",\"type\":\"PushEvent\",\"actor\":{\"id\":58255472,\"login\":\"zacw-243L\",\"display_login\":\"zacw-243L\",\"gravatar_id\":\"\",\"url\":\"https://api.github.com/users/zacw-243L\",\"avatar_url\":\"https://avatars.githubusercontent.com/u/58255472?\"},\"repo\":{\"id\":916397814,\"name\":\"zacw-243L/How-to-inflate-your-commits-\",\"url\":\"https://api.github.com/repos/zacw-243L/How-to-inflate-your-commits-\"},\"payload\":{\"repository_id\":916397814,\"push_id\":22775599819,\"size\":1,\"distinct_size\":1,\"ref\":\"refs/heads/master\",\"head\":\"983d523ea62b2cdff3cca0ac54b293ae8a5fdbd8\",\"before\":\"b1eefaaed12d163a7e283be5a70c898cde6e95a2\",\"commits\":[{\"sha\":\"983d523ea62b2cdff3cca0ac54b293ae8a5fdbd8\",\"author\":{\"email\":\"qwerty.amousy123442x@gmail.com\",\"name\":\"zacw-243L\"},\"message\":\"Update made at Fri 21/02/2025  9:17:59.26\",\"distinct\":true,\"url\":\"https://api.github.com/repos/zacw-243L/How-to-inflate-your-commits-/commits/983d523ea62b2cdff3cca0ac54b293ae8a5fdbd8\"}]},\"public\":true,\"created_at\":\"2025-02-21T01:18:02Z\"},{\"id\":\"46800357187\",\"type\":\"PushEvent\",\"actor\":{\"id\":56665733,\"login\":\"kim429\",\"display_login\":\"kim429\",\"gravatar_id\":\"\",\"url\":\"https://api.github.com/users/kim429\",\"avatar_url\":\"https://avatars.githubusercontent.com/u/56665733?\"},\"repo\":{\"id\":928401424,\"name\":\"Algumithm/study\",\"url\":\"https://api.github.com/repos/Algumithm/study\"},\"payload\":{\"repository_id\":928401424,\"push_id\":22775599785,\"size\":1,\"distinct_size\":1,\"ref\":\"refs/heads/main\",\"head\":\"dd2237791b7578c64cd59cf691e754988c7e5ec9\",\"before\":\"1722798c716b14c477aaf2cdf24935b24dae54dd\",\"commits\":[{\"sha\":\"dd2237791b7578c64cd59cf691e754988c7e5ec9\",\"author\":{\"email\":\"56665733+kim429@users.noreply.github.com\",\"name\":\"kimsujin\"},\"message\":\"주간목표 커밋 방법 업데이트\",\"distinct\":true,\"url\":\"https://api.github.com/repos/Algumithm/study/commits/dd2237791b7578c64cd59cf691e754988c7e5ec9\"}]},\"public\":true,\"created_at\":\"2025-02-21T01:18:02Z\",\"org\":{\"id\":198082447,\"login\":\"Algumithm\",\"gravatar_id\":\"\",\"url\":\"https://api.github.com/orgs/Algumithm\",\"avatar_url\":\"https://avatars.githubusercontent.com/u/198082447?\"}},{\"id\":\"46800357177\",\"type\":\"PushEvent\",\"actor\":{\"id\":142232111,\"login\":\"Vit767\",\"display_login\":\"Vit767\",\"gravatar_id\":\"\",\"url\":\"https://api.github.com/users/Vit767\",\"avatar_url\":\"https://avatars.githubusercontent.com/u/142232111?\"},\"repo\":{\"id\":738143671,\"name\":\"Vit767/curriculo\",\"url\":\"https://api.github.com/repos/Vit767/curriculo\"},\"payload\":{\"repository_id\":738143671,\"push_id\":22775599812,\"size\":1,\"distinct_size\":1,\"ref\":\"refs/heads/main\",\"head\":\"5bf520c8bdfb02d36c8dca1414183e6941e938dc\",\"before\":\"d50af5db02575d74cddc149a6958f2cbef564b81\",\"commits\":[{\"sha\":\"5bf520c8bdfb02d36c8dca1414183e6941e938dc\",\"author\":{\"email\":\"142232111+Vit767@users.noreply.github.com\",\"name\":\"Vit767\"},\"message\":\"Update curriculo traduções.js\",\"distinct\":true,\"url\":\"https://api.github.com/repos/Vit767/curriculo/commits/5bf520c8bdfb02d36c8dca1414183e6941e938dc\"}]},\"public\":true,\"created_at\":\"2025-02-21T01:18:02Z\"},{\"id\":\"46800357189\",\"type\":\"MemberEvent\",\"actor\":{\"id\":43190070,\"login\":\"LingEthan5050\",\"display_login\":\"LingEthan5050\",\"gravatar_id\":\"\",\"url\":\"https://api.github.com/users/LingEthan5050\",\"avatar_url\":\"https://avatars.githubusercontent.com/u/43190070?\"},\"repo\":{\"id\":936373665,\"name\":\"LingEthan5050/AI-Project\",\"url\":\"https://api.github.com/repos/LingEthan5050/AI-Project\"},\"payload\":{\"member\":{\"login\":\"tzebohn\",\"id\":158614618,\"node_id\":\"U_kgDOCXREWg\",\"avatar_url\":\"https://avatars.githubusercontent.com/u/158614618?v=4\",\"gravatar_id\":\"\",\"url\":\"https://api.github.com/users/tzebohn\",\"html_url\":\"https://github.com/tzebohn\",\"followers_url\":\"https://api.github.com/users/tzebohn/followers\",\"following_url\":\"https://api.github.com/users/tzebohn/following{/other_user}\",\"gists_url\":\"https://api.github.com/users/tzebohn/gists{/gist_id}\",\"starred_url\":\"https://api.github.com/users/tzebohn/starred{/owner}{/repo}\",\"subscriptions_url\":\"https://api.github.com/users/tzebohn/subscriptions\",\"organizations_url\":\"https://api.github.com/users/tzebohn/orgs\",\"repos_url\":\"https://api.github.com/users/tzebohn/repos\",\"events_url\":\"https://api.github.com/users/tzebohn/events{/privacy}\",\"received_events_url\":\"https://api.github.com/users/tzebohn/received_events\",\"type\":\"User\",\"user_view_type\":\"public\",\"site_admin\":false},\"action\":\"added\"},\"public\":true,\"created_at\":\"2025-02-21T01:18:02Z\"},{\"id\":\"46800357172\",\"type\":\"PushEvent\",\"actor\":{\"id\":28660981,\"login\":\"langasg\",\"display_login\":\"langasg\",\"gravatar_id\":\"\",\"url\":\"https://api.github.com/users/langasg\",\"avatar_url\":\"https://avatars.githubusercontent.com/u/28660981?\"},\"repo\":{\"id\":475963770,\"name\":\"langasg/upptime\",\"url\":\"https://api.github.com/repos/langasg/upptime\"},\"payload\":{\"repository_id\":475963770,\"push_id\":22775599814,\"size\":2,\"distinct_size\":2,\"ref\":\"refs/heads/master\",\"head\":\"ecdcca0aeb3ebee362534c782568f05765f9e3c6\",\"before\":\"c8087901e002c0b72317ef570092dcb6b0f2156b\",\"commits\":[{\"sha\":\"65589b3fecc9c4341a938f7a5342ca7767214dab\",\"author\":{\"email\":\"73812536+upptime-bot@users.noreply.github.com\",\"name\":\"Upptime Bot\"},\"message\":\":pencil: Update summary in README [skip ci] [upptime]\",\"distinct\":true,\"url\":\"https://api.github.com/repos/langasg/upptime/commits/65589b3fecc9c4341a938f7a5342ca7767214dab\"},{\"sha\":\"ecdcca0aeb3ebee362534c782568f05765f9e3c6\",\"author\":{\"email\":\"73812536+upptime-bot@users.noreply.github.com\",\"name\":\"Upptime Bot\"},\"message\":\":card_file_box: Update status summary [skip ci] [upptime]\",\"distinct\":true,\"url\":\"https://api.github.com/repos/langasg/upptime/commits/ecdcca0aeb3ebee362534c782568f05765f9e3c6\"}]},\"public\":true,\"created_at\":\"2025-02-21T01:18:02Z\"},{\"id\":\"46800357167\",\"type\":\"PushEvent\",\"actor\":{\"id\":115740191,\"login\":\"pmahoney-noaa\",\"display_login\":\"pmahoney-noaa\",\"gravatar_id\":\"\",\"url\":\"https://api.github.com/users/pmahoney-noaa\",\"avatar_url\":\"https://avatars.githubusercontent.com/u/115740191?\"},\"repo\":{\"id\":881521848,\"name\":\"pmahoney-noaa/noaa-pcfg-pop-ssm\",\"url\":\"https://api.github.com/repos/pmahoney-noaa/noaa-pcfg-pop-ssm\"},\"payload\":{\"repository_id\":881521848,\"push_id\":22775599811,\"size\":1,\"distinct_size\":1,\"ref\":\"refs/heads/main\",\"head\":\"d3d62845d69477dd51a840b52352995dbe9fd9fd\",\"before\":\"fe54e41ad04e1bc1de5b423ad8e232d59f7d2e8a\",\"commits\":[{\"sha\":\"d3d62845d69477dd51a840b52352995dbe9fd9fd\",\"author\":{\"email\":\"peter.mahoney@noaa.gov\",\"name\":\"Peter Mahoney\"},\"message\":\"Fixed sigfigs in tables 3 and 4.\",\"distinct\":true,\"url\":\"https://api.github.com/repos/pmahoney-noaa/noaa-pcfg-pop-ssm/commits/d3d62845d69477dd51a840b52352995dbe9fd9fd\"}]},\"public\":true,\"created_at\":\"2025-02-21T01:18:02Z\"},{\"id\":\"46800357168\",\"type\":\"PushEvent\",\"actor\":{\"id\":41898282,\"login\":\"github-actions[bot]\",\"display_login\":\"github-actions\",\"gravatar_id\":\"\",\"url\":\"https://api.github.com/users/github-actions[bot]\",\"avatar_url\":\"https://avatars.githubusercontent.com/u/41898282?\"},\"repo\":{\"id\":807195526,\"name\":\"Echin-h/Echin-h\",\"url\":\"https://api.github.com/repos/Echin-h/Echin-h\"},\"payload\":{\"repository_id\":807195526,\"push_id\":22775599823,\"size\":1,\"distinct_size\":1,\"ref\":\"refs/heads/main\",\"head\":\"20f310c8ec031556022bd58b0f962b8b6c0fdc91\",\"before\":\"c12c8d2294032c1dba06fe692c1fdb060984e86a\",\"commits\":[{\"sha\":\"20f310c8ec031556022bd58b0f962b8b6c0fdc91\",\"author\":{\"email\":\"41898282+github-actions[bot]@users.noreply.github.com\",\"name\":\"github-actions[bot]\"},\"message\":\"Update github-metrics.svg - [Skip GitHub Action]\",\"distinct\":true,\"url\":\"https://api.github.com/repos/Echin-h/Echin-h/commits/20f310c8ec031556022bd58b0f962b8b6c0fdc91\"}]},\"public\":true,\"created_at\":\"2025-02-21T01:18:02Z\"},{\"id\":\"46800357162\",\"type\":\"PushEvent\",\"actor\":{\"id\":41898282,\"login\":\"github-actions[bot]\",\"display_login\":\"github-actions\",\"gravatar_id\":\"\",\"url\":\"https://api.github.com/users/github-actions[bot]\",\"avatar_url\":\"https://avatars.githubusercontent.com/u/41898282?\"},\"repo\":{\"id\":521133453,\"name\":\"rizkifajara/rizkifajara\",\"url\":\"https://api.github.com/repos/rizkifajara/rizkifajara\"},\"payload\":{\"repository_id\":521133453,\"push_id\":22775599815,\"size\":1,\"distinct_size\":1,\"ref\":\"refs/heads/main\",\"head\":\"80e4fe379a4d7679dce7d4eec7d3734df39ead89\",\"before\":\"a72b950d9f04fa1ad8425c539df64a0b50633550\",\"commits\":[{\"sha\":\"80e4fe379a4d7679dce7d4eec7d3734df39ead89\",\"author\":{\"email\":\"41898282+github-actions[bot]@users.noreply.github.com\",\"name\":\"github-actions[bot]\"},\"message\":\"Update github-metrics.svg - [Skip GitHub Action]\",\"distinct\":true,\"url\":\"https://api.github.com/repos/rizkifajara/rizkifajara/commits/80e4fe379a4d7679dce7d4eec7d3734df39ead89\"}]},\"public\":true,\"created_at\":\"2025-02-21T01:18:02Z\"},{\"id\":\"46800357158\",\"type\":\"PushEvent\",\"actor\":{\"id\":59021848,\"login\":\"jorge1150\",\"display_login\":\"jorge1150\",\"gravatar_id\":\"\",\"url\":\"https://api.github.com/users/jorge1150\",\"avatar_url\":\"https://avatars.githubusercontent.com/u/59021848?\"},\"repo\":{\"id\":915868548,\"name\":\"jorge1150/arnuvV3-main\",\"url\":\"https://api.github.com/repos/jorge1150/arnuvV3-main\"},\"payload\":{\"repository_id\":915868548,\"push_id\":22775599788,\"size\":1,\"distinct_size\":1,\"ref\":\"refs/heads/ramaJorge\",\"head\":\"e815c58f27c227cc19800f9941f5f070d00822e2\",\"before\":\"e5db4a8d07eede998e61f13210134eaa2ae7ea5c\",\"commits\":[{\"sha\":\"e815c58f27c227cc19800f9941f5f070d00822e2\",\"author\":{\"email\":\"jorgemosquera1150@gmail.com\",\"name\":\"Jorge Mosquera\"},\"message\":\"JMS - se corrige paseadores\",\"distinct\":true,\"url\":\"https://api.github.com/repos/jorge1150/arnuvV3-main/commits/e815c58f27c227cc19800f9941f5f070d00822e2\"}]},\"public\":true,\"created_at\":\"2025-02-21T01:18:02Z\"},{\"id\":\"46800357155\",\"type\":\"PushEvent\",\"actor\":{\"id\":41898282,\"login\":\"github-actions[bot]\",\"display_login\":\"github-actions\",\"gravatar_id\":\"\",\"url\":\"https://api.github.com/users/github-actions[bot]\",\"avatar_url\":\"https://avatars.githubusercontent.com/u/41898282?\"},\"repo\":{\"id\":561185634,\"name\":\"MehtaPavan/MehtaPavan\",\"url\":\"https://api.github.com/repos/MehtaPavan/MehtaPavan\"},\"payload\":{\"repository_id\":561185634,\"push_id\":22775599775,\"size\":1,\"distinct_size\":1,\"ref\":\"refs/heads/output\",\"head\":\"8d8432a9bd69ce35e1d3633dcb83fc85a3966252\",\"before\":\"22300a553e079aba87841e0faf9a9aa1eae3dbdc\",\"commits\":[{\"sha\":\"8d8432a9bd69ce35e1d3633dcb83fc85a3966252\",\"author\":{\"email\":\"41898282+github-actions[bot]@users.noreply.github.com\",\"name\":\"github-actions[bot]\"},\"message\":\"Deploy to GitHub pages\",\"distinct\":true,\"url\":\"https://api.github.com/repos/MehtaPavan/MehtaPavan/commits/8d8432a9bd69ce35e1d3633dcb83fc85a3966252\"}]},\"public\":true,\"created_at\":\"2025-02-21T01:18:02Z\"},{\"id\":\"46800357160\",\"type\":\"PushEvent\",\"actor\":{\"id\":194889389,\"login\":\"zhaofengdadezu\",\"display_login\":\"zhaofengdadezu\",\"gravatar_id\":\"\",\"url\":\"https://api.github.com/users/zhaofengdadezu\",\"avatar_url\":\"https://avatars.githubusercontent.com/u/194889389?\"},\"repo\":{\"id\":916458585,\"name\":\"zhaofengdadezu/API\",\"url\":\"https://api.github.com/repos/zhaofengdadezu/API\"},\"payload\":{\"repository_id\":916458585,\"push_id\":22775599801,\"size\":1,\"distinct_size\":1,\"ref\":\"refs/heads/main\",\"head\":\"92093c588da4565f2564088e6ef67b4c7ed705bd\",\"before\":\"1784772e3306f920fb3e09a85375550913597a13\",\"commits\":[{\"sha\":\"92093c588da4565f2564088e6ef67b4c7ed705bd\",\"author\":{\"email\":\"zhaofengdadezu@gmail.com\",\"name\":\"zhaofengdadezu\"},\"message\":\"Update image\",\"distinct\":true,\"url\":\"https://api.github.com/repos/zhaofengdadezu/API/commits/92093c588da4565f2564088e6ef67b4c7ed705bd\"}]},\"public\":true,\"created_at\":\"2025-02-21T01:18:02Z\"},{\"id\":\"46800357157\",\"type\":\"PushEvent\",\"actor\":{\"id\":51359078,\"login\":\"SoliSpirit\",\"display_login\":\"SoliSpirit\",\"gravatar_id\":\"\",\"url\":\"https://api.github.com/users/SoliSpirit\",\"avatar_url\":\"https://avatars.githubusercontent.com/u/51359078?\"},\"repo\":{\"id\":886194477,\"name\":\"SoliSpirit/v2ray-configs\",\"url\":\"https://api.github.com/repos/SoliSpirit/v2ray-configs\"},\"payload\":{\"repository_id\":886194477,\"push_id\":22775599741,\"size\":1,\"distinct_size\":1,\"ref\":\"refs/heads/main\",\"head\":\"f9c3cb1df479d0a473d8b3dcc892fad9c2649724\",\"before\":\"9c7f70f4ac9c33c111ba8c89faf7624c79c6f900\",\"commits\":[{\"sha\":\"f9c3cb1df479d0a473d8b3dcc892fad9c2649724\",\"author\":{\"email\":\"51359078+SoliSpirit@users.noreply.github.com\",\"name\":\"So\"},\"message\":\"Update\",\"distinct\":true,\"url\":\"https://api.github.com/repos/SoliSpirit/v2ray-configs/commits/f9c3cb1df479d0a473d8b3dcc892fad9c2649724\"}]},\"public\":true,\"created_at\":\"2025-02-21T01:18:02Z\"},{\"id\":\"46800357130\",\"type\":\"PushEvent\",\"actor\":{\"id\":41898282,\"login\":\"github-actions[bot]\",\"display_login\":\"github-actions\",\"gravatar_id\":\"\",\"url\":\"https://api.github.com/users/github-actions[bot]\",\"avatar_url\":\"https://avatars.githubusercontent.com/u/41898282?\"},\"repo\":{\"id\":436387447,\"name\":\"anaclwra/anaclwra\",\"url\":\"https://api.github.com/repos/anaclwra/anaclwra\"},\"payload\":{\"repository_id\":436387447,\"push_id\":22775599747,\"size\":1,\"distinct_size\":1,\"ref\":\"refs/heads/output\",\"head\":\"235a74f0009063b9e160ecfe429b94b097590c24\",\"before\":\"cd159c5de78129caff8061c67ac0bc224adea169\",\"commits\":[{\"sha\":\"235a74f0009063b9e160ecfe429b94b097590c24\",\"author\":{\"email\":\"41898282+github-actions[bot]@users.noreply.github.com\",\"name\":\"github-actions[bot]\"},\"message\":\"Deploy to GitHub pages\",\"distinct\":true,\"url\":\"https://api.github.com/repos/anaclwra/anaclwra/commits/235a74f0009063b9e160ecfe429b94b097590c24\"}]},\"public\":true,\"created_at\":\"2025-02-21T01:18:02Z\"},{\"id\":\"46800357137\",\"type\":\"PushEvent\",\"actor\":{\"id\":102811428,\"login\":\"Deathbyteacup\",\"display_login\":\"Deathbyteacup\",\"gravatar_id\":\"\",\"url\":\"https://api.github.com/users/Deathbyteacup\",\"avatar_url\":\"https://avatars.githubusercontent.com/u/102811428?\"},\"repo\":{\"id\":600272713,\"name\":\"Deathbyteacup/thfstatuspage\",\"url\":\"https://api.github.com/repos/Deathbyteacup/thfstatuspage\"},\"payload\":{\"repository_id\":600272713,\"push_id\":22775599749,\"size\":1,\"distinct_size\":1,\"ref\":\"refs/heads/master\",\"head\":\"88d1426aca2f0a72ea981dcfdb0b8ec94319d661\",\"before\":\"ae38530bb353f455de6ea98b3c33b78273135d93\",\"commits\":[{\"sha\":\"88d1426aca2f0a72ea981dcfdb0b8ec94319d661\",\"author\":{\"email\":\"73812536+upptime-bot@users.noreply.github.com\",\"name\":\"Upptime Bot\"},\"message\":\":bento: Update graphs [skip ci]\",\"distinct\":true,\"url\":\"https://api.github.com/repos/Deathbyteacup/thfstatuspage/commits/88d1426aca2f0a72ea981dcfdb0b8ec94319d661\"}]},\"public\":true,\"created_at\":\"2025-02-21T01:18:02Z\"},{\"id\":\"46800357139\",\"type\":\"PushEvent\",\"actor\":{\"id\":50873657,\"login\":\"MuriloFP\",\"display_login\":\"MuriloFP\",\"gravatar_id\":\"\",\"url\":\"https://api.github.com/users/MuriloFP\",\"avatar_url\":\"https://avatars.githubusercontent.com/u/50873657?\"},\"repo\":{\"id\":935793759,\"name\":\"MuriloFP/LightRAG\",\"url\":\"https://api.github.com/repos/MuriloFP/LightRAG\"},\"payload\":{\"repository_id\":935793759,\"push_id\":22775599751,\"size\":41,\"distinct_size\":1,\"ref\":\"refs/heads/rust-implementation\",\"head\":\"522fddb36d6f54d0482e50d293b313be2d66f457\",\"before\":\"8ca2ddc867bafb92601f88fcb08a1f0b806c27f0\",\"commits\":[{\"sha\":\"c8eaa45024c97609f2359c1db007eac86359b645\",\"author\":{\"email\":\"zrguo.bupt@qq.com\",\"name\":\"zrguo\"},\"message\":\"add Chinese template\",\"distinct\":false,\"url\":\"https://api.github.com/repos/MuriloFP/LightRAG/commits/c8eaa45024c97609f2359c1db007eac86359b645\"},{\"sha\":\"fbe7e9994d7a667031e8cb38553a9e1c7b0b13db\",\"author\":{\"email\":\"zrguo.bupt@qq.com\",\"name\":\"zrguo\"},\"message\":\"revert\",\"distinct\":false,\"url\":\"https://api.github.com/repos/MuriloFP/LightRAG/commits/fbe7e9994d7a667031e8cb38553a9e1c7b0b13db\"},{\"sha\":\"0b941178482691394a9d2385fdb8b530f9818f84\",\"author\":{\"email\":\"pankaj@getcalmo.com\",\"name\":\"Pankaj Kaushal\"},\"message\":\"Add LlamaIndex LLM implementation module\\n\\n- Implemented LlamaIndex interface for language model interactions\\n- Added async chat completion support\\n- Included embedding generation functionality\\n- Implemented retry mechanisms for API calls\\n- Added configuration and message formatting utilities\\n- Supports OpenAI-style message handling and external settings\",\"distinct\":false,\"url\":\"https://api.github.com/repos/MuriloFP/LightRAG/commits/0b941178482691394a9d2385fdb8b530f9818f84\"},{\"sha\":\"3b25e32e8d4dc2de95805a50e29092b64fd92254\",\"author\":{\"email\":\"pankaj@getcalmo.com\",\"name\":\"Pankaj Kaushal\"},\"message\":\"Removed verbose module-level documentation\",\"distinct\":false,\"url\":\"https://api.github.com/repos/MuriloFP/LightRAG/commits/3b25e32e8d4dc2de95805a50e29092b64fd92254\"},{\"sha\":\"8a06be9395f7209337b2b575d30be220ac3b823f\",\"author\":{\"email\":\"pankaj@getcalmo.com\",\"name\":\"Pankaj Kaushal\"},\"message\":\"Add LlamaIndex Wrapper and Example Implementations\\n\\n- Updated README.md with new Wrappers section detailing LlamaIndex integration\\n- Added LlamaIndex wrapper implementation in `lightrag/wrapper/llama_index_impl.py`\\n- Created two example scripts demonstrating LlamaIndex usage:\\n  - Direct OpenAI integration\\n  - LiteLLM proxy integration\\n- Added wrapper documentation in `lightrag/wrapper/Readme.md`\\n- Included comprehensive usage examples and configuration details\",\"distinct\":false,\"url\":\"https://api.github.com/repos/MuriloFP/LightRAG/commits/8a06be9395f7209337b2b575d30be220ac3b823f\"},{\"sha\":\"203fdf2565768da025aadf35eb3b850ed7663f90\",\"author\":{\"email\":\"pankaj@getcalmo.com\",\"name\":\"Pankaj Kaushal\"},\"message\":\"Remove LlamaIndex implementation from llm directory as per @MdNazishArmanShorthillsAI\\n\\n- Deleted `lightrag/llm/llama_index_impl.py`\\n- Reorganization of the LlamaIndex wrapper location\",\"distinct\":false,\"url\":\"https://api.github.com/repos/MuriloFP/LightRAG/commits/203fdf2565768da025aadf35eb3b850ed7663f90\"},{\"sha\":\"04604841c9c905ab6f18a6b426897e9d9665cd3e\",\"author\":{\"email\":\"pankaj@getcalmo.com\",\"name\":\"Pankaj Kaushal\"},\"message\":\"Add logger import\",\"distinct\":false,\"url\":\"https://api.github.com/repos/MuriloFP/LightRAG/commits/04604841c9c905ab6f18a6b426897e9d9665cd3e\"},{\"sha\":\"277070e03bc7202f015cc8ec18cd37bd0b4e20a8\",\"author\":{\"email\":\"pankaj@getcalmo.com\",\"name\":\"Pankaj Kaushal\"},\"message\":\"Linting and formatting\",\"distinct\":false,\"url\":\"https://api.github.com/repos/MuriloFP/LightRAG/commits/277070e03bc7202f015cc8ec18cd37bd0b4e20a8\"},{\"sha\":\"173a806b9a8f7a75b50bf3f9321fb1d71d6863ae\",\"author\":{\"email\":\"pankaj@getcalmo.com\",\"name\":\"Pankaj Kaushal\"},\"message\":\"Moved back to llm dir as per\\n\\nhttps://github.com/HKUDS/LightRAG/pull/864#issuecomment-2669705946\\n\\n- Created two new example scripts demonstrating LightRAG integration with LlamaIndex:\\n  - `lightrag_llamaindex_direct_demo.py`: Direct OpenAI integration\\n  - `lightrag_llamaindex_litellm_demo.py`: LiteLLM proxy integration\\n- Both examples showcase different search modes (naive, local, global, hybrid)\\n- Includes configuration for working directory, models, and API settings\\n- Demonstrates text insertion and querying using LightRAG with LlamaIndex\\n- removed wrapper directory and references to it\",\"distinct\":false,\"url\":\"https://api.github.com/repos/MuriloFP/LightRAG/commits/173a806b9a8f7a75b50bf3f9321fb1d71d6863ae\"},{\"sha\":\"9934241a1e44a3e071139f793e9ee4e689d032a3\",\"author\":{\"email\":\"pankaj@getcalmo.com\",\"name\":\"Pankaj Kaushal\"},\"message\":\"Update README.md: Refactor LlamaIndex section and example code\\n\\n- Simplified LlamaIndex documentation in README\\n- Removed wrapper directory references\\n- Updated example code to reflect new directory structure\\n- Cleaned up custom knowledge graph example\\n- Adjusted file paths and import statements\",\"distinct\":false,\"url\":\"https://api.github.com/repos/MuriloFP/LightRAG/commits/9934241a1e44a3e071139f793e9ee4e689d032a3\"},{\"sha\":\"6f09bfc970c784ae88b9d8b8dba275213150cfb7\",\"author\":{\"email\":\"pankaj@getcalmo.com\",\"name\":\"Pankaj Kaushal\"},\"message\":\"Update LlamaIndex README: improve documentation and example paths\\n\\n- Updated file paths for LlamaIndex examples\\n- Simplified README structure\\n- Corrected import statements to reflect new directory layout\\n- Removed outdated wrapper directory references\",\"distinct\":false,\"url\":\"https://api.github.com/repos/MuriloFP/LightRAG/commits/6f09bfc970c784ae88b9d8b8dba275213150cfb7\"},{\"sha\":\"cbc5d9da43279c9702293f876f8d224499fabcdf\",\"author\":{\"email\":\"stephan.yannick@me.com\",\"name\":\"Yannick Stephan\"},\"message\":\"Merge pull request #864 from spo0nman/pkaushal/862\\n\\nAdd LlamaIndex LLM implementation module\",\"distinct\":false,\"url\":\"https://api.github.com/repos/MuriloFP/LightRAG/commits/cbc5d9da43279c9702293f876f8d224499fabcdf\"},{\"sha\":\"9f2c659d9cba73214e178c7b8910b3e510ea760b\",\"author\":{\"email\":\"stephan.yannick@me.com\",\"name\":\"Yannick Stephan\"},\"message\":\"remove unused log\",\"distinct\":false,\"url\":\"https://api.github.com/repos/MuriloFP/LightRAG/commits/9f2c659d9cba73214e178c7b8910b3e510ea760b\"},{\"sha\":\"de56aeb7c5fcb60ea2c391a54f7e1d4ed0559178\",\"author\":{\"email\":\"stephan.yannick@me.com\",\"name\":\"Yannick Stephan\"},\"message\":\"removed lock\",\"distinct\":false,\"url\":\"https://api.github.com/repos/MuriloFP/LightRAG/commits/de56aeb7c5fcb60ea2c391a54f7e1d4ed0559178\"},{\"sha\":\"bae21a6fadbc6093bb4094ec6e151fff9592d721\",\"author\":{\"email\":\"stephan.yannick@me.com\",\"name\":\"Yannick Stephan\"},\"message\":\"added max paralle insert\",\"distinct\":false,\"url\":\"https://api.github.com/repos/MuriloFP/LightRAG/commits/bae21a6fadbc6093bb4094ec6e151fff9592d721\"},{\"sha\":\"37addb7c01682d1e273c74532bbf9ceada0020f2\",\"author\":{\"email\":\"stephan.yannick@me.com\",\"name\":\"Yannick Stephan\"},\"message\":\"added final\",\"distinct\":false,\"url\":\"https://api.github.com/repos/MuriloFP/LightRAG/commits/37addb7c01682d1e273c74532bbf9ceada0020f2\"},{\"sha\":\"2370a4336b0e16387db942a6e4f03c29d32ee5e7\",\"author\":{\"email\":\"stephan.yannick@me.com\",\"name\":\"Yannick Stephan\"},\"message\":\"added field\",\"distinct\":false,\"url\":\"https://api.github.com/repos/MuriloFP/LightRAG/commits/2370a4336b0e16387db942a6e4f03c29d32ee5e7\"},{\"sha\":\"f5a93c7bb5d78f5b6a0c94e96ead46c7cb3bd147\",\"author\":{\"email\":\"stephan.yannick@me.com\",\"name\":\"Yannick Stephan\"},\"message\":\"added fields\",\"distinct\":false,\"url\":\"https://api.github.com/repos/MuriloFP/LightRAG/commits/f5a93c7bb5d78f5b6a0c94e96ead46c7cb3bd147\"},{\"sha\":\"4b478d1c0ff521cd25d607f3ff1a5c3a66e238d3\",\"author\":{\"email\":\"stephan.yannick@me.com\",\"name\":\"Yannick Stephan\"},\"message\":\"added fields\",\"distinct\":false,\"url\":\"https://api.github.com/repos/MuriloFP/LightRAG/commits/4b478d1c0ff521cd25d607f3ff1a5c3a66e238d3\"},{\"sha\":\"32d0f1acb04c9499024b7d953957736cef0c850c\",\"author\":{\"email\":\"stephan.yannick@me.com\",\"name\":\"Yannick Stephan\"},\"message\":\"added docs and fields\",\"distinct\":false,\"url\":\"https://api.github.com/repos/MuriloFP/LightRAG/commits/32d0f1acb04c9499024b7d953957736cef0c850c\"}]},\"public\":true,\"created_at\":\"2025-02-21T01:18:02Z\"},{\"id\":\"46800357149\",\"type\":\"ReleaseEvent\",\"actor\":{\"id\":41898282,\"login\":\"github-actions[bot]\",\"display_login\":\"github-actions\",\"gravatar_id\":\"\",\"url\":\"https://api.github.com/users/github-actions[bot]\",\"avatar_url\":\"https://avatars.githubusercontent.com/u/41898282?\"},\"repo\":{\"id\":900326790,\"name\":\"lamports-dev/richat\",\"url\":\"https://api.github.com/repos/lamports-dev/richat\"},\"payload\":{\"action\":\"published\",\"release\":{\"url\":\"https://api.github.com/repos/lamports-dev/richat/releases/201564367\",\"assets_url\":\"https://api.github.com/repos/lamports-dev/richat/releases/201564367/assets\",\"upload_url\":\"https://uploads.github.com/repos/lamports-dev/richat/releases/201564367/assets{?name,label}\",\"html_url\":\"https://github.com/lamports-dev/richat/releases/tag/plugin-agave-v2.1.0%2Bsolana.2.1.14\",\"id\":201564367,\"author\":{\"login\":\"github-actions[bot]\",\"id\":41898282,\"node_id\":\"MDM6Qm90NDE4OTgyODI=\",\"avatar_url\":\"https://avatars.githubusercontent.com/in/15368?v=4\",\"gravatar_id\":\"\",\"url\":\"https://api.github.com/users/github-actions%5Bbot%5D\",\"html_url\":\"https://github.com/apps/github-actions\",\"followers_url\":\"https://api.github.com/users/github-actions%5Bbot%5D/followers\",\"following_url\":\"https://api.github.com/users/github-actions%5Bbot%5D/following{/other_user}\",\"gists_url\":\"https://api.github.com/users/github-actions%5Bbot%5D/gists{/gist_id}\",\"starred_url\":\"https://api.github.com/users/github-actions%5Bbot%5D/starred{/owner}{/repo}\",\"subscriptions_url\":\"https://api.github.com/users/github-actions%5Bbot%5D/subscriptions\",\"organizations_url\":\"https://api.github.com/users/github-actions%5Bbot%5D/orgs\",\"repos_url\":\"https://api.github.com/users/github-actions%5Bbot%5D/repos\",\"events_url\":\"https://api.github.com/users/github-actions%5Bbot%5D/events{/privacy}\",\"received_events_url\":\"https://api.github.com/users/github-actions%5Bbot%5D/received_events\",\"type\":\"Bot\",\"user_view_type\":\"public\",\"site_admin\":false},\"node_id\":\"RE_kwDONanlhs4MA6DP\",\"tag_name\":\"plugin-agave-v2.1.0+solana.2.1.14\",\"target_commitish\":\"master\",\"name\":\"plugin-agave-v2.1.0+solana.2.1.14\",\"draft\":false,\"prerelease\":false,\"created_at\":\"2025-02-21T01:15:05Z\",\"published_at\":\"2025-02-21T01:18:01Z\",\"assets\":[],\"tarball_url\":\"https://api.github.com/repos/lamports-dev/richat/tarball/plugin-agave-v2.1.0+solana.2.1.14\",\"zipball_url\":\"https://api.github.com/repos/lamports-dev/richat/zipball/plugin-agave-v2.1.0+solana.2.1.14\",\"body\":\"\",\"short_description_html\":\"\",\"is_short_description_html_truncated\":false}},\"public\":true,\"created_at\":\"2025-02-21T01:18:02Z\",\"org\":{\"id\":180133400,\"login\":\"lamports-dev\",\"gravatar_id\":\"\",\"url\":\"https://api.github.com/orgs/lamports-dev\",\"avatar_url\":\"https://avatars.githubusercontent.com/u/180133400?\"}},{\"id\":\"46800357144\",\"type\":\"PushEvent\",\"actor\":{\"id\":41898282,\"login\":\"github-actions[bot]\",\"display_login\":\"github-actions\",\"gravatar_id\":\"\",\"url\":\"https://api.github.com/users/github-actions[bot]\",\"avatar_url\":\"https://avatars.githubusercontent.com/u/41898282?\"},\"repo\":{\"id\":736466572,\"name\":\"NguyenKhanh0209/NguyenKhanh0209\",\"url\":\"https://api.github.com/repos/NguyenKhanh0209/NguyenKhanh0209\"},\"payload\":{\"repository_id\":736466572,\"push_id\":22775599793,\"size\":1,\"distinct_size\":1,\"ref\":\"refs/heads/output\",\"head\":\"eb83634cfef8988dfced5463c8a6a0c1c33d440c\",\"before\":\"f1bfb61c4aee5142408e13f917ad70594a941711\",\"commits\":[{\"sha\":\"eb83634cfef8988dfced5463c8a6a0c1c33d440c\",\"author\":{\"email\":\"41898282+github-actions[bot]@users.noreply.github.com\",\"name\":\"github-actions[bot]\"},\"message\":\"Update snake animations\",\"distinct\":true,\"url\":\"https://api.github.com/repos/NguyenKhanh0209/NguyenKhanh0209/commits/eb83634cfef8988dfced5463c8a6a0c1c33d440c\"}]},\"public\":true,\"created_at\":\"2025-02-21T01:18:02Z\"},{\"id\":\"46800357099\",\"type\":\"PushEvent\",\"actor\":{\"id\":41898282,\"login\":\"github-actions[bot]\",\"display_login\":\"github-actions\",\"gravatar_id\":\"\",\"url\":\"https://api.github.com/users/github-actions[bot]\",\"avatar_url\":\"https://avatars.githubusercontent.com/u/41898282?\"},\"repo\":{\"id\":733467814,\"name\":\"0x61nas/0x61nas\",\"url\":\"https://api.github.com/repos/0x61nas/0x61nas\"},\"payload\":{\"repository_id\":733467814,\"push_id\":22775599761,\"size\":1,\"distinct_size\":1,\"ref\":\"refs/heads/gifos\",\"head\":\"efaeb4d64b819b43c2b1fdc2743bbe37fb1d5ddf\",\"before\":\"90c9d4eeb6d8a1066a82a545334f62e0469cf4c6\",\"commits\":[{\"sha\":\"efaeb4d64b819b43c2b1fdc2743bbe37fb1d5ddf\",\"author\":{\"email\":\"bot@github.com\",\"name\":\"bot\"},\"message\":\"Automatically updated on Fri Feb 21 01:18:00 UTC 2025\",\"distinct\":true,\"url\":\"https://api.github.com/repos/0x61nas/0x61nas/commits/efaeb4d64b819b43c2b1fdc2743bbe37fb1d5ddf\"}]},\"public\":true,\"created_at\":\"2025-02-21T01:18:02Z\"},{\"id\":\"46800357131\",\"type\":\"PushEvent\",\"actor\":{\"id\":41898282,\"login\":\"github-actions[bot]\",\"display_login\":\"github-actions\",\"gravatar_id\":\"\",\"url\":\"https://api.github.com/users/github-actions[bot]\",\"avatar_url\":\"https://avatars.githubusercontent.com/u/41898282?\"},\"repo\":{\"id\":597717763,\"name\":\"pedroferrarezzo/pedroferrarezzo\",\"url\":\"https://api.github.com/repos/pedroferrarezzo/pedroferrarezzo\"},\"payload\":{\"repository_id\":597717763,\"push_id\":22775599807,\"size\":1,\"distinct_size\":1,\"ref\":\"refs/heads/output\",\"head\":\"235a74f0009063b9e160ecfe429b94b097590c24\",\"before\":\"1533c2b91c63450d1ad01635608cd54f78d93195\",\"commits\":[{\"sha\":\"235a74f0009063b9e160ecfe429b94b097590c24\",\"author\":{\"email\":\"41898282+github-actions[bot]@users.noreply.github.com\",\"name\":\"github-actions[bot]\"},\"message\":\"Deploy to GitHub pages\",\"distinct\":true,\"url\":\"https://api.github.com/repos/pedroferrarezzo/pedroferrarezzo/commits/235a74f0009063b9e160ecfe429b94b097590c24\"}]},\"public\":true,\"created_at\":\"2025-02-21T01:18:02Z\"},{\"id\":\"46800357119\",\"type\":\"PushEvent\",\"actor\":{\"id\":22932494,\"login\":\"qiushui95\",\"display_login\":\"qiushui95\",\"gravatar_id\":\"\",\"url\":\"https://api.github.com/users/qiushui95\",\"avatar_url\":\"https://avatars.githubusercontent.com/u/22932494?\"},\"repo\":{\"id\":618021848,\"name\":\"qiushui95/VersionCatlogDailyUpdate\",\"url\":\"https://api.github.com/repos/qiushui95/VersionCatlogDailyUpdate\"},\"payload\":{\"repository_id\":618021848,\"push_id\":22775599784,\"size\":1,\"distinct_size\":1,\"ref\":\"refs/heads/master\",\"head\":\"1a7ed0babeb146b66ffd10ab36c5bbda89378c17\",\"before\":\"af5211209ae9e08b2c9779c94413238e5170768a\",\"commits\":[{\"sha\":\"1a7ed0babeb146b66ffd10ab36c5bbda89378c17\",\"author\":{\"email\":\"49699333+dependabot[bot]@users.noreply.github.com\",\"name\":\"dependabot[bot]\"},\"message\":\"Bump com.google.accompanist:accompanist-drawablepainter (#456)\\n\\nBumps [com.google.accompanist:accompanist-drawablepainter](https://github.com/google/accompanist) from 0.37.0 to 0.37.2.\\n- [Release notes](https://github.com/google/accompanist/releases)\\n- [Commits](https://github.com/google/accompanist/compare/v0.37.0...v0.37.2)\\n\\n---\\nupdated-dependencies:\\n- dependency-name: com.google.accompanist:accompanist-drawablepainter\\n  dependency-type: direct:production\\n  update-type: version-update:semver-patch\\n...\\n\\nSigned-off-by: dependabot[bot] <support@github.com>\\nCo-authored-by: dependabot[bot] <49699333+dependabot[bot]@users.noreply.github.com>\",\"distinct\":true,\"url\":\"https://api.github.com/repos/qiushui95/VersionCatlogDailyUpdate/commits/1a7ed0babeb146b66ffd10ab36c5bbda89378c17\"}]},\"public\":true,\"created_at\":\"2025-02-21T01:18:02Z\"},{\"id\":\"46800357132\",\"type\":\"PublicEvent\",\"actor\":{\"id\":103117260,\"login\":\"buildingonchain\",\"display_login\":\"buildingonchain\",\"gravatar_id\":\"\",\"url\":\"https://api.github.com/users/buildingonchain\",\"avatar_url\":\"https://avatars.githubusercontent.com/u/103117260?\"},\"repo\":{\"id\":936356753,\"name\":\"buildingonchain/chain-reactions\",\"url\":\"https://api.github.com/repos/buildingonchain/chain-reactions\"},\"payload\":{},\"public\":true,\"created_at\":\"2025-02-21T01:18:02Z\"},{\"id\":\"46800357112\",\"type\":\"PushEvent\",\"actor\":{\"id\":41898282,\"login\":\"github-actions[bot]\",\"display_login\":\"github-actions\",\"gravatar_id\":\"\",\"url\":\"https://api.github.com/users/github-actions[bot]\",\"avatar_url\":\"https://avatars.githubusercontent.com/u/41898282?\"},\"repo\":{\"id\":610531333,\"name\":\"Corvonauta-dev/Corvonauta-dev\",\"url\":\"https://api.github.com/repos/Corvonauta-dev/Corvonauta-dev\"},\"payload\":{\"repository_id\":610531333,\"push_id\":22775599768,\"size\":1,\"distinct_size\":1,\"ref\":\"refs/heads/output\",\"head\":\"235a74f0009063b9e160ecfe429b94b097590c24\",\"before\":\"53fb0f6144e81fa7b6396dcfce9378f0b13381bd\",\"commits\":[{\"sha\":\"235a74f0009063b9e160ecfe429b94b097590c24\",\"author\":{\"email\":\"41898282+github-actions[bot]@users.noreply.github.com\",\"name\":\"github-actions[bot]\"},\"message\":\"Deploy to GitHub pages\",\"distinct\":true,\"url\":\"https://api.github.com/repos/Corvonauta-dev/Corvonauta-dev/commits/235a74f0009063b9e160ecfe429b94b097590c24\"}]},\"public\":true,\"created_at\":\"2025-02-21T01:18:02Z\"},{\"id\":\"46800357108\",\"type\":\"PushEvent\",\"actor\":{\"id\":41898282,\"login\":\"github-actions[bot]\",\"display_login\":\"github-actions\",\"gravatar_id\":\"\",\"url\":\"https://api.github.com/users/github-actions[bot]\",\"avatar_url\":\"https://avatars.githubusercontent.com/u/41898282?\"},\"repo\":{\"id\":388586066,\"name\":\"pawsnizzy/klipper\",\"url\":\"https://api.github.com/repos/pawsnizzy/klipper\"},\"payload\":{\"repository_id\":388586066,\"push_id\":22775599767,\"size\":1,\"distinct_size\":1,\"ref\":\"refs/heads/gh-pages\",\"head\":\"6cbda4b017634e33b7aa37e79bcf228c7126d21e\",\"before\":\"48d93b546f022fb2ed792708803d5d15a052b6a8\",\"commits\":[{\"sha\":\"6cbda4b017634e33b7aa37e79bcf228c7126d21e\",\"author\":{\"email\":\"pawsnizzy@users.noreply.github.com\",\"name\":\"pawsnizzy\"},\"message\":\"Deploying to gh-pages from @ pawsnizzy/klipper@19877425453269a09fed414b83686fa7162c5c67 🚀\",\"distinct\":true,\"url\":\"https://api.github.com/repos/pawsnizzy/klipper/commits/6cbda4b017634e33b7aa37e79bcf228c7126d21e\"}]},\"public\":true,\"created_at\":\"2025-02-21T01:18:02Z\"},{\"id\":\"46800357114\",\"type\":\"PushEvent\",\"actor\":{\"id\":170929135,\"login\":\"APKs-dl\",\"display_login\":\"APKs-dl\",\"gravatar_id\":\"\",\"url\":\"https://api.github.com/users/APKs-dl\",\"avatar_url\":\"https://avatars.githubusercontent.com/u/170929135?\"},\"repo\":{\"id\":806461597,\"name\":\"APKs-dl/RenGO\",\"url\":\"https://api.github.com/repos/APKs-dl/RenGO\"},\"payload\":{\"repository_id\":806461597,\"push_id\":22775599780,\"size\":1,\"distinct_size\":1,\"ref\":\"refs/heads/content\",\"head\":\"8fb668981a25857c5469da65b117576936cadf76\",\"before\":\"1d9bef39d7dd518f9b9b548574d487306840f90a\",\"commits\":[{\"sha\":\"8fb668981a25857c5469da65b117576936cadf76\",\"author\":{\"email\":\"seophoenix2024@gmail.com\",\"name\":\"APKs-dl\"},\"message\":\"updating from webservice\",\"distinct\":true,\"url\":\"https://api.github.com/repos/APKs-dl/RenGO/commits/8fb668981a25857c5469da65b117576936cadf76\"}]},\"public\":true,\"created_at\":\"2025-02-21T01:18:02Z\"},{\"id\":\"46800357126\",\"type\":\"PushEvent\",\"actor\":{\"id\":199463379,\"login\":\"Norinthkm\",\"display_login\":\"Norinthkm\",\"gravatar_id\":\"\",\"url\":\"https://api.github.com/users/Norinthkm\",\"avatar_url\":\"https://avatars.githubusercontent.com/u/199463379?\"},\"repo\":{\"id\":934581254,\"name\":\"Norinthkm/Mev-Bot_SOLANA\",\"url\":\"https://api.github.com/repos/Norinthkm/Mev-Bot_SOLANA\"},\"payload\":{\"repository_id\":934581254,\"push_id\":22775599786,\"size\":1,\"distinct_size\":1,\"ref\":\"refs/heads/main\",\"head\":\"9c3eca1fc5490e951af8f5a947ffe83e16ffba45\",\"before\":\"d1ce9b32356602d99e711cd13c090b4e58b80719\",\"commits\":[{\"sha\":\"9c3eca1fc5490e951af8f5a947ffe83e16ffba45\",\"author\":{\"email\":\"vz67mlwp6zbos@outlook.com\",\"name\":\"BetaSensei357\"},\"message\":\"Update LICENSE\",\"distinct\":true,\"url\":\"https://api.github.com/repos/Norinthkm/Mev-Bot_SOLANA/commits/9c3eca1fc5490e951af8f5a947ffe83e16ffba45\"}]},\"public\":true,\"created_at\":\"2025-02-21T01:18:02Z\"},{\"id\":\"46800357122\",\"type\":\"PushEvent\",\"actor\":{\"id\":170477737,\"login\":\"Hehehaw17\",\"display_login\":\"Hehehaw17\",\"gravatar_id\":\"\",\"url\":\"https://api.github.com/users/Hehehaw17\",\"avatar_url\":\"https://avatars.githubusercontent.com/u/170477737?\"},\"repo\":{\"id\":915103251,\"name\":\"Hehehaw17/EXPENSE-TRACKER\",\"url\":\"https://api.github.com/repos/Hehehaw17/EXPENSE-TRACKER\"},\"payload\":{\"repository_id\":915103251,\"push_id\":22775599763,\"size\":1,\"distinct_size\":1,\"ref\":\"refs/heads/main\",\"head\":\"a8d02ad3ccee95d228f1e48682866ea7007d5c1f\",\"before\":\"c7938a46cb5adb9e6cd2b2cde46ba819d58babdc\",\"commits\":[{\"sha\":\"a8d02ad3ccee95d228f1e48682866ea7007d5c1f\",\"author\":{\"email\":\"vuubabies@gmail.com\",\"name\":\"Hehehaw17\"},\"message\":\"Commit\",\"distinct\":true,\"url\":\"https://api.github.com/repos/Hehehaw17/EXPENSE-TRACKER/commits/a8d02ad3ccee95d228f1e48682866ea7007d5c1f\"}]},\"public\":true,\"created_at\":\"2025-02-21T01:18:02Z\"},{\"id\":\"46800357118\",\"type\":\"PushEvent\",\"actor\":{\"id\":41898282,\"login\":\"github-actions[bot]\",\"display_login\":\"github-actions\",\"gravatar_id\":\"\",\"url\":\"https://api.github.com/users/github-actions[bot]\",\"avatar_url\":\"https://avatars.githubusercontent.com/u/41898282?\"},\"repo\":{\"id\":782943948,\"name\":\"vishal257/vishal257\",\"url\":\"https://api.github.com/repos/vishal257/vishal257\"},\"payload\":{\"repository_id\":782943948,\"push_id\":22775599795,\"size\":1,\"distinct_size\":1,\"ref\":\"refs/heads/output\",\"head\":\"9264b70c2a08110933487bbb38d1febf176bb1c6\",\"before\":\"cebeb6a1742126ff6ebc6ee23d2692616161a748\",\"commits\":[{\"sha\":\"9264b70c2a08110933487bbb38d1febf176bb1c6\",\"author\":{\"email\":\"41898282+github-actions[bot]@users.noreply.github.com\",\"name\":\"github-actions[bot]\"},\"message\":\"Deploy to GitHub pages\",\"distinct\":true,\"url\":\"https://api.github.com/repos/vishal257/vishal257/commits/9264b70c2a08110933487bbb38d1febf176bb1c6\"}]},\"public\":true,\"created_at\":\"2025-02-21T01:18:02Z\"},{\"id\":\"46800357100\",\"type\":\"PushEvent\",\"actor\":{\"id\":41898282,\"login\":\"github-actions[bot]\",\"display_login\":\"github-actions\",\"gravatar_id\":\"\",\"url\":\"https://api.github.com/users/github-actions[bot]\",\"avatar_url\":\"https://avatars.githubusercontent.com/u/41898282?\"},\"repo\":{\"id\":920615833,\"name\":\"yangheeb/yangheeb\",\"url\":\"https://api.github.com/repos/yangheeb/yangheeb\"},\"payload\":{\"repository_id\":920615833,\"push_id\":22775599759,\"size\":1,\"distinct_size\":1,\"ref\":\"refs/heads/main\",\"head\":\"0ae24a5f06edda3dc9956cfea2cb79e533a8c446\",\"before\":\"b69ac8abbcda36c5e096677dd25b06fa50fdfc3d\",\"commits\":[{\"sha\":\"0ae24a5f06edda3dc9956cfea2cb79e533a8c446\",\"author\":{\"email\":\"41898282+github-actions[bot]@users.noreply.github.com\",\"name\":\"github-actions[bot]\"},\"message\":\"Update github-metrics.svg - [Skip GitHub Action]\",\"distinct\":true,\"url\":\"https://api.github.com/repos/yangheeb/yangheeb/commits/0ae24a5f06edda3dc9956cfea2cb79e533a8c446\"}]},\"public\":true,\"created_at\":\"2025-02-21T01:18:02Z\"}]\n"
     ]
    }
   ],
   "source": [
    "print(r.text)"
   ]
  },
  {
   "cell_type": "code",
   "execution_count": null,
   "id": "ac9b47a0-dce6-4ffd-bbe4-c7909a3efb19",
   "metadata": {},
   "outputs": [],
   "source": [
    "r = requests.get('https://naver.com')\n",
    "print(r.text)"
   ]
  },
  {
   "cell_type": "code",
   "execution_count": null,
   "id": "1496f1f0-8dd3-4e68-9bb9-90072bc85238",
   "metadata": {},
   "outputs": [],
   "source": [
    "payload = {'key1': 'value1', 'key2': 'value2'}\n",
    "r = requests.get('https://httpbin.org/get', params=payload)\n",
    "print(r.url)\n",
    "print(r.text)"
   ]
  },
  {
   "cell_type": "code",
   "execution_count": null,
   "id": "8b05cc9b-cd94-4230-8c6e-22d6e38ed736",
   "metadata": {},
   "outputs": [],
   "source": [
    "payload = {'query': '파이썬'}\n",
    "r = requests.get('https://search.naver.com/search.naver', params=payload)\n",
    "print(r.url)"
   ]
  },
  {
   "cell_type": "code",
   "execution_count": null,
   "id": "69903816-80cb-4d36-b4e4-648f7fbcdce9",
   "metadata": {},
   "outputs": [],
   "source": [
    "r = requests.get('https://api.github.com/events')\n",
    "print(type(r.json()))\n",
    "print(r.json())"
   ]
  },
  {
   "cell_type": "code",
   "execution_count": 4,
   "id": "b2231d97-0898-45a7-bc6e-3887f08f0449",
   "metadata": {},
   "outputs": [
    {
     "name": "stdout",
     "output_type": "stream",
     "text": [
      "2025-02-01\n",
      "5\n",
      "7\n",
      "12\n",
      "20\n",
      "25\n",
      "26\n"
     ]
    }
   ],
   "source": [
    "lotto_url = 'https://www.dhlottery.co.kr/common.do'\n",
    "\n",
    "payload = {\n",
    "    'method': 'getLottoNumber',\n",
    "    'drwNo': 1157,\n",
    "}\n",
    "\n",
    "r = requests.get(lotto_url, params=payload)\n",
    "# print(r.url)\n",
    "# print(r.text)\n",
    "lotto_dict = r.json()\n",
    "\n",
    "print(lotto_dict['drwNoDate'])\n",
    "# print(lotto_dict['drwtNo1'])\n",
    "# print(lotto_dict['drwtNo2'])\n",
    "# print(lotto_dict['drwtNo3'])\n",
    "# print(lotto_dict['drwtNo4'])\n",
    "# print(lotto_dict['drwtNo5'])\n",
    "# print(lotto_dict['drwtNo6'])\n",
    "\n",
    "for i in range(1, 7):\n",
    "    print(lotto_dict[f'drwtNo{i}'])"
   ]
  },
  {
   "cell_type": "markdown",
   "id": "c7548d94-d339-4888-924b-2802e69d8e57",
   "metadata": {},
   "source": [
    "### 페어프로그래밍 (로또)\n",
    "1. 로또 5000원 구매하기\n",
    "    - 랜덤으로 6개 숫자로 이루어진 5세트의 로또 번호를 생성합니다.\n",
    "2. 최신회차 당첨번호 수집하기\n",
    "3. 등수 확인하기\n",
    "    - 최신회차의 당첨번호와 생성된 번호를 비교하여 몇등인지 출력합니다.\n",
    "    - 1, 3, 4, 5, 꽝 우선 작성 후 `+ 2등`\n",
    "4. 추가기능 구현\n",
    "    - 참고링크(https://parkminkyu.github.io/newLotto/lottoWin.html)"
   ]
  },
  {
   "cell_type": "code",
   "execution_count": 52,
   "id": "f53e0107-893e-4512-a1cc-7c59d0051d76",
   "metadata": {},
   "outputs": [
    {
     "name": "stdout",
     "output_type": "stream",
     "text": [
      "{1: [14, 28, 37, 38, 39, 42], 2: [1, 3, 20, 30, 35, 45], 3: [2, 11, 14, 21, 22, 23], 4: [4, 15, 17, 18, 20, 31], 5: [3, 14, 33, 37, 40, 41]}\n"
     ]
    }
   ],
   "source": [
    "# 1. 로또번호 생성\n",
    "import random\n",
    "\n",
    "my_numbers = {}\n",
    "\n",
    "for i in range(1, 6):\n",
    "    random_numbers = random.sample(range(1, 46), 6)\n",
    "    random_numbers.sort()\n",
    "    my_numbers[i] = random_numbers\n",
    "print(my_numbers)"
   ]
  },
  {
   "cell_type": "code",
   "execution_count": 53,
   "id": "23a167f4-6bc9-4cbe-bc57-0144056b7792",
   "metadata": {},
   "outputs": [
    {
     "name": "stdout",
     "output_type": "stream",
     "text": [
      "{'totSellamnt': 124802304000, 'returnValue': 'success', 'drwNoDate': '2025-02-15', 'firstWinamnt': 1284854250, 'drwtNo6': 39, 'drwtNo4': 28, 'firstPrzwnerCo': 23, 'drwtNo5': 38, 'bnusNo': 7, 'firstAccumamnt': 29551647750, 'drwNo': 1159, 'drwtNo2': 9, 'drwtNo3': 27, 'drwtNo1': 3}\n",
      "[39, 28, 38, 9, 27, 3]\n"
     ]
    }
   ],
   "source": [
    "# 2. 최신회차 당첨번호 수집\n",
    "import requests\n",
    "\n",
    "LOTTO_URL = 'https://www.dhlottery.co.kr/common.do'\n",
    "payload = {\n",
    "    'method': 'getLottoNumber',\n",
    "    'drwNo': 1159,\n",
    "}\n",
    "\n",
    "res = requests.get(LOTTO_URL, params=payload)\n",
    "lotto_dict = res.json()\n",
    "\n",
    "print(lotto_dict)\n",
    "\n",
    "lucky_numbers = []\n",
    "bonus_number = lotto_dict['bnusNo']\n",
    "\n",
    "for k, v in lotto_dict.items():\n",
    "    if 'drwtNo' in k:\n",
    "        lucky_numbers.append(v)\n",
    "\n",
    "print(lucky_numbers)"
   ]
  },
  {
   "cell_type": "code",
   "execution_count": 58,
   "id": "271df88e-ded5-4a73-8599-2bacae8ab0a4",
   "metadata": {},
   "outputs": [
    {
     "name": "stdout",
     "output_type": "stream",
     "text": [
      "4등\n"
     ]
    }
   ],
   "source": [
    "# 3. 등수 확인하기\n",
    "for my_number in my_numbers.values():\n",
    "    my_number_set = set(my_number)\n",
    "    lucky_numbers_set = set(lucky_numbers)\n",
    "\n",
    "    match_count = len(my_number_set & lucky_numbers_set)\n",
    "      \n",
    "    if match_count == 6:\n",
    "        print('1등!!!')\n",
    "    elif match_count == 5 and bonus_number in my_number:\n",
    "        print('2등!!!')\n",
    "    elif match_count == 5:\n",
    "        print('3등!')\n",
    "    elif match_count == 4:\n",
    "        print('4등')\n",
    "    elif match_count == 3:\n",
    "        print('5')\n",
    "    else:\n",
    "        print('ㅜㅜ')\n",
    "            "
   ]
  },
  {
   "cell_type": "code",
   "execution_count": null,
   "id": "74aa2480-ecd6-4b6d-a157-7cd373f8eb59",
   "metadata": {},
   "outputs": [],
   "source": []
  }
 ],
 "metadata": {
  "kernelspec": {
   "display_name": "Python 3 (ipykernel)",
   "language": "python",
   "name": "python3"
  },
  "language_info": {
   "codemirror_mode": {
    "name": "ipython",
    "version": 3
   },
   "file_extension": ".py",
   "mimetype": "text/x-python",
   "name": "python",
   "nbconvert_exporter": "python",
   "pygments_lexer": "ipython3",
   "version": "3.13.2"
  }
 },
 "nbformat": 4,
 "nbformat_minor": 5
}
